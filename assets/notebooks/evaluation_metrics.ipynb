{
 "cells": [
  {
   "cell_type": "code",
   "execution_count": 10,
   "metadata": {},
   "outputs": [],
   "source": [
    "from tqdm import tqdm\n",
    "import json\n",
    "import numpy as np \n",
    "import re\n",
    "import os\n",
    "from nltk.translate.bleu_score import corpus_bleu"
   ]
  },
  {
   "cell_type": "code",
   "execution_count": 2,
   "metadata": {},
   "outputs": [],
   "source": [
    "import pickle\n",
    "def save_pickle(obj, path):\n",
    "    with open(path, 'wb') as f:\n",
    "        pickle.dump(obj, f)\n",
    "def load_pickle(path):\n",
    "    with open(path, 'rb') as f:\n",
    "        return pickle.load(f)\n",
    "\n",
    "def save_file_txt(data_list, file_path, newline=True):\n",
    "    wfile = open(file_path, 'w')\n",
    "    for data in data_list:\n",
    "        if newline:\n",
    "            wfile.write(str(data) + '\\n')\n",
    "        else:\n",
    "            wfile.write(str(data))\n",
    "    wfile.close()"
   ]
  },
  {
   "cell_type": "code",
   "execution_count": 3,
   "metadata": {},
   "outputs": [],
   "source": [
    "# line data process\n",
    "line_datas = open('../line-level/dataset/py150/line_completion/test.json').readlines()\n",
    "length = len(line_datas)\n",
    "line_inputs = []\n",
    "line_gts = []\n",
    "for data in line_datas:\n",
    "    data = json.loads(data.strip())\n",
    "    line_inputs.append(data[\"input\"])\n",
    "    line_gts.append([data[\"gt\"]])"
   ]
  },
  {
   "cell_type": "code",
   "execution_count": 5,
   "metadata": {},
   "outputs": [
    {
     "name": "stderr",
     "output_type": "stream",
     "text": [
      "/home/wannita/.conda/envs/codexglue/lib/python3.7/site-packages/ipykernel_launcher.py:3: FutureWarning: load_metric is deprecated and will be removed in the next major version of datasets. Use 'evaluate.load' instead, from the new library 🤗 Evaluate: https://huggingface.co/docs/evaluate\n",
      "  This is separate from the ipykernel package so we can avoid doing imports until\n",
      "[nltk_data] Downloading package wordnet to /home/wannita/nltk_data...\n",
      "[nltk_data]   Package wordnet is already up-to-date!\n",
      "[nltk_data] Downloading package punkt to /home/wannita/nltk_data...\n",
      "[nltk_data]   Package punkt is already up-to-date!\n",
      "[nltk_data] Downloading package omw-1.4 to /home/wannita/nltk_data...\n",
      "[nltk_data]   Package omw-1.4 is already up-to-date!\n"
     ]
    }
   ],
   "source": [
    "# BLEU4, METEOR, and ROUGE\n",
    "import datasets\n",
    "sacrebleu = datasets.load_metric('sacrebleu')\n",
    "meteor = datasets.load_metric('meteor')\n",
    "rouge = datasets.load_metric('rouge')"
   ]
  },
  {
   "cell_type": "code",
   "execution_count": 6,
   "metadata": {},
   "outputs": [],
   "source": [
    "def calculate_bleu4(list_gts, list_preds, name=''):\n",
    "    split_line_gts = [[line[0].split()] for line in list_gts]\n",
    "    split_preds = [line.split() for line in list_preds]\n",
    "    print('BLEU-4 ({}): {}'.format(name, round(corpus_bleu(list_of_references=split_line_gts, hypotheses=split_preds, weights=(0.25, 0.25, 0.25, 0.25))*100, 2)))"
   ]
  },
  {
   "cell_type": "code",
   "execution_count": 11,
   "metadata": {},
   "outputs": [],
   "source": [
    "def post_process(code):\n",
    "    code = code.replace(\"<NUM_LIT>\", \"0\").replace(\"<STR_LIT>\", \"\").replace(\"<CHAR_LIT>\", \"\")\n",
    "    pattern = re.compile(r\"<(STR|NUM|CHAR)_LIT:(.*?)>\", re.S)\n",
    "    lits = re.findall(pattern, code)\n",
    "    for lit in lits:\n",
    "        code = code.replace(f\"<{lit[0]}_LIT:{lit[1]}>\", lit[1])\n",
    "    return code\n",
    "def clean_to_code(code_str, post_literal=False):\n",
    "    code = \"\"\n",
    "    if post_literal:\n",
    "        code_str = post_process(code_str)\n",
    "    code_str = code_str.replace('<s>', '')\n",
    "    code_str = code_str.replace('</s>', '')\n",
    "    code_list = code_str.split()\n",
    "    indent = 0\n",
    "    newline = False\n",
    "    for tok in code_list:\n",
    "        if '<NUM_LIT:' in tok:\n",
    "            tok = tok[len('<NUM_LIT:'):-1]\n",
    "        elif tok == '<NUM_LIT>':\n",
    "            tok = '0'\n",
    "        if tok ==  '<INDENT>':\n",
    "            indent += 1\n",
    "        elif tok == '<DEDENT>':\n",
    "            indent -= 1\n",
    "        elif tok == '<EOL>':\n",
    "            newline = True\n",
    "        else:\n",
    "            if newline:\n",
    "                code += '\\n'\n",
    "                newline = False\n",
    "                if indent > 0:\n",
    "                    code += '\\t' * indent\n",
    "                code += tok\n",
    "            else:\n",
    "                code += \" \" + tok\n",
    "    return code.strip()"
   ]
  },
  {
   "cell_type": "code",
   "execution_count": 24,
   "metadata": {},
   "outputs": [
    {
     "data": {
      "text/plain": [
       "'<s> import functools <EOL> import operator <EOL> import os <EOL> import shutil <EOL> import sys <EOL> import py <EOL> import pytest <EOL> import rasterio <EOL> if sys . version_info > ( <NUM_LIT:3> , ) : <EOL> <INDENT> reduce = functools . reduce <EOL> <DEDENT> test_files = [ <EOL> os . path . join ( os . path . dirname ( __file__ ) , p ) for p in [ \\'<STR_LIT>\\' ] ] <EOL> def pytest_cmdline_main ( config ) : <EOL> <INDENT> if reduce ( operator . and_ , map ( os . path . exists , test_files ) ) : <EOL> <INDENT> print ( \"<STR_LIT>\" ) <EOL> <DEDENT> else : <EOL> <INDENT> print ( \"<STR_LIT>\" ) <EOL> sys . exit ( <NUM_LIT:1> ) <EOL> <DEDENT> <DEDENT> @ pytest . fixture ( scope = \\'<STR_LIT>\\' ) <EOL> def data ( ) : <EOL> <INDENT> \"\"\"<STR_LIT>\"\"\" <EOL> tmpdir = py . test . ensuretemp ( \\'<STR_LIT>\\' ) <EOL> for filename in test_files : <EOL> <INDENT> shutil . copy ( filename , str ( tmpdir ) ) <EOL> <DEDENT> return tmpdir <EOL> <DEDENT> <EOL> </s>\\n'"
      ]
     },
     "execution_count": 24,
     "metadata": {},
     "output_type": "execute_result"
    }
   ],
   "source": [
    "dev[0]"
   ]
  },
  {
   "cell_type": "code",
   "execution_count": 8,
   "metadata": {},
   "outputs": [
    {
     "name": "stdout",
     "output_type": "stream",
     "text": [
      "import threading\n",
      "import IECore\n",
      "import Gaffer\n",
      "import GafferUI\n",
      "import GafferImage\n",
      "__all__ = [ ]\n",
      "Gaffer . Metadata . registerNode (\n",
      "GafferImage . Display ,\n",
      "\"<STR_LIT:description>\" ,\n",
      "\"\"\"<STR_LIT>\"\"\" ,\n",
      "plugs = {\n",
      "\"<STR_LIT:port>\" : [\n",
      "\"<STR_LIT:description>\" ,\n",
      "\"\"\"<STR_LIT>\"\"\" ,\n",
      "] ,\n",
      "}\n",
      ")\n",
      "__plugsPendingUpdate = [ ]\n",
      "__plugsPendingUpdateLock = threading . Lock ( )\n",
      "def __scheduleUpdate ( plug , force = False ) :\n",
      "\tif not force :\n",
      "\t\tglobal __plugsPendingUpdate\n",
      "\t\tglobal __plugsPendingUpdateLock\n",
      "\t\twith __plugsPendingUpdateLock :\n",
      "\t\t\tfor p in __plugsPendingUpdate :\n",
      "\t\t\t\tif plug . isSame ( p ) :\n",
      "\t\t\t\t\treturn\n",
      "\t\t\t__plugsPendingUpdate . append ( plug )\n",
      "\tGafferUI . EventLoop . executeOnUIThread ( lambda : __update ( plug ) )\n",
      "def __update ( plug ) :\n",
      "\tnode = plug . node ( )\n",
      "\tif node :\n",
      "\t\tupdateCountPlug = node [ \"<STR_LIT>\" ]\n",
      "\t\tupdateCountPlug . setValue ( updateCountPlug . getValue ( )\n"
     ]
    }
   ],
   "source": [
    "print(clean_to_code(line_inputs[0]))"
   ]
  },
  {
   "cell_type": "markdown",
   "metadata": {},
   "source": [
    "### metrics list"
   ]
  },
  {
   "cell_type": "code",
   "execution_count": 13,
   "metadata": {},
   "outputs": [
    {
     "name": "stdout",
     "output_type": "stream",
     "text": [
      "122 ['accuracy', 'bertscore', 'bleu', 'bleurt', 'brier_score', 'cer', 'character', 'charcut_mt', 'chrf', 'code_eval', 'comet', 'competition_math', 'coval', 'cuad', 'exact_match', 'f1', 'frugalscore', 'glue', 'google_bleu', 'indic_glue', 'mae', 'mahalanobis', 'mape', 'mase', 'matthews_correlation', 'mauve', 'mean_iou', 'meteor', 'mse', 'nist_mt', 'pearsonr', 'perplexity', 'poseval', 'precision', 'recall', 'rl_reliability', 'roc_auc', 'rouge', 'sacrebleu', 'sari', 'seqeval', 'smape', 'spearmanr', 'squad', 'squad_v2', 'super_glue', 'ter', 'trec_eval', 'wer', 'wiki_split', 'xnli', 'xtreme_s', 'BucketHeadP65/confusion_matrix', 'BucketHeadP65/roc_curve', 'Drunper/metrica_tesi', 'Felipehonorato/my_metric', 'GMFTBY/dailydialog_evaluate', 'GMFTBY/dailydialogevaluate', 'JP-SystemsX/nDCG', 'Josh98/nl2bash_m', 'KevinSpaghetti/accuracyk', 'NCSOFT/harim_plus', 'NikitaMartynov/spell-check-metric', 'NimaBoscarino/weat', 'Ochiroo/rouge_mn', 'Vertaix/vendiscore', 'Viona/infolm', 'Vlasta/pr_auc', 'abdusah/aradiawer', 'abidlabs/mean_iou', 'abidlabs/mean_iou2', 'angelina-wang/directional_bias_amplification', 'anz2/iliauniiccocrevaluation', 'bstrai/classification_report', 'cakiki/ndcg', 'codeparrot/apps_metric', 'cpllab/syntaxgym', 'daiyizheng/valid', 'dvitel/codebleu', 'ecody726/bertscore', 'erntkn/dice_coefficient', 'giulio98/code_eval_outputs', 'giulio98/codebleu', 'gnail/cosine_similarity', 'gorkaartola/metric_for_tp_fp_samples', 'hack/test_metric', 'harshhpareek/bertscore', 'hpi-dhc/FairEval', 'hynky/sklearn_proxy', 'idsedykh/codebleu', 'idsedykh/codebleu2', 'idsedykh/megaglue', 'idsedykh/metric', 'jordyvl/ece', 'jpxkqx/peak_signal_to_noise_ratio', 'jpxkqx/signal_to_reconstrution_error', 'jzm-mailchimp/joshs_second_test_metric', 'kaggle/ai4code', 'kaggle/amex', 'kashif/mape', 'kasmith/woodscore', 'kyokote/my_metric2', 'leslyarun/fbeta_score', 'loubnabnl/apps_metric2', 'lvwerra/accuracy_score', 'lvwerra/bary_score', 'lvwerra/test', 'mfumanelli/geometric_mean', 'mgfrantz/roc_auc_macro', 'ola13/precision_at_k', 'omidf/squad_precision_recall', 'posicube/mean_reciprocal_rank', 'ronaldahmed/nwentfaithfulness', 'sportlosos/sescore', 'transZ/sbert_cosine', 'transZ/test_parascore', 'xu1998hz/sescore', 'ybelkada/cocoevaluate', 'yonting/average_precision_score', 'yulong-me/yl_metric', 'yzha/ctc_eval', 'zbeloki/m2']\n"
     ]
    }
   ],
   "source": [
    "metric_list = datasets.list_metrics()\n",
    "print(len(metric_list), metric_list)"
   ]
  },
  {
   "cell_type": "markdown",
   "metadata": {},
   "source": [
    "# Evaluation"
   ]
  },
  {
   "cell_type": "code",
   "execution_count": 8,
   "metadata": {},
   "outputs": [],
   "source": [
    "data_path = '/paper_results/'\n",
    "rq1_path = data_path + 'rq1/line_level/'\n",
    "rq2_path = data_path + 'rq2/line_level/'\n",
    "rq3_path = data_path + 'rq3_wvt/line_level/'\n",
    "rq4_path = data_path + 'rq4/'"
   ]
  },
  {
   "attachments": {},
   "cell_type": "markdown",
   "metadata": {},
   "source": [
    "## check duplicates PY150"
   ]
  },
  {
   "cell_type": "code",
   "execution_count": 28,
   "metadata": {},
   "outputs": [
    {
     "data": {
      "text/plain": [
       "150000"
      ]
     },
     "execution_count": 28,
     "metadata": {},
     "output_type": "execute_result"
    }
   ],
   "source": [
    "code_all = []\n",
    "for ct,path in enumerate(all):\n",
    "        code = open(os.path.join('/home/wannita/HDD18TB/active_repo/CodeXGLUE/Code-Code/CodeCompletion-token/dataset/py150/py150_files', path.strip()), 'rb').read()\n",
    "        code_all.append(code)\n",
    "len(code_all)"
   ]
  },
  {
   "cell_type": "code",
   "execution_count": 29,
   "metadata": {},
   "outputs": [
    {
     "name": "stderr",
     "output_type": "stream",
     "text": [
      "100%|██████████| 150000/150000 [05:07<00:00, 488.40it/s]  \n"
     ]
    }
   ],
   "source": [
    "for i in tqdm(range(len(code_all))):\n",
    "    if code_all[i] in code_all[i+1:]:\n",
    "        print('duplicated at {}'.format(i))"
   ]
  },
  {
   "cell_type": "markdown",
   "metadata": {},
   "source": [
    "## RQ1"
   ]
  },
  {
   "cell_type": "code",
   "execution_count": 7,
   "metadata": {},
   "outputs": [],
   "source": [
    "# line-level rq1\n",
    "codegpt = open(rq1_path + 'CodeGPT.txt').readlines()\n",
    "gpt2 = open(rq1_path + 'GPT2.txt').readlines()\n",
    "pycoder_hard = open(rq1_path + 'PyCoder-hard.txt').readlines()"
   ]
  },
  {
   "cell_type": "markdown",
   "metadata": {},
   "source": [
    "### BLEU-4"
   ]
  },
  {
   "cell_type": "code",
   "execution_count": 53,
   "metadata": {},
   "outputs": [
    {
     "name": "stdout",
     "output_type": "stream",
     "text": [
      "BLEU-4 (codegpt): 42.12\n",
      "BLEU-4 (gpt2): 39.23\n",
      "BLEU-4 (pycoder-hard): 46.03\n"
     ]
    }
   ],
   "source": [
    "calculate_bleu4(list_gts=line_gts, list_preds=codegpt, name='codegpt')\n",
    "calculate_bleu4(list_gts=line_gts, list_preds=gpt2, name='gpt2')\n",
    "calculate_bleu4(list_gts=line_gts, list_preds=pycoder_hard, name='pycoder-hard')"
   ]
  },
  {
   "cell_type": "markdown",
   "metadata": {},
   "source": [
    "### sacrebleu"
   ]
  },
  {
   "cell_type": "code",
   "execution_count": 53,
   "metadata": {},
   "outputs": [
    {
     "name": "stdout",
     "output_type": "stream",
     "text": [
      "CodeGPT:\n",
      "{'score': 51.08033491819318, 'counts': [74036, 58110, 47943, 40278], 'totals': [92721, 82847, 73306, 64927], 'precisions': [79.84814659030856, 70.14134488877086, 65.40119499086023, 62.0358248494463], 'bp': 0.7398385259184208, 'sys_len': 92721, 'ref_len': 120660}\n",
      "\n",
      "GPT-2:\n",
      "{'score': 48.1622630307218, 'counts': [70938, 55080, 45201, 37852], 'totals': [90128, 80283, 70793, 62563], 'precisions': [78.70805964849991, 68.60730167034117, 63.849533145932504, 60.50221376852133], 'bp': 0.7126515778114554, 'sys_len': 90128, 'ref_len': 120660}\n",
      "\n",
      "PyCoder:\n",
      "{'score': 54.61459820571429, 'counts': [77724, 61789, 51335, 43320], 'totals': [96177, 86293, 76677, 68140], 'precisions': [80.81350010917372, 71.60372220226438, 66.94967200073033, 63.57499266216613], 'bp': 0.7752560620968585, 'sys_len': 96177, 'ref_len': 120660}\n",
      "\n"
     ]
    }
   ],
   "source": [
    "print(\"CodeGPT:\\n{}\\n\".format(sacrebleu.compute(predictions=codegpt, references=line_gts)))\n",
    "print(\"GPT-2:\\n{}\\n\".format(sacrebleu.compute(predictions=gpt2, references=line_gts)))\n",
    "print(\"PyCoder:\\n{}\\n\".format(sacrebleu.compute(predictions=pycoder_hard, references=line_gts)))"
   ]
  },
  {
   "cell_type": "markdown",
   "metadata": {},
   "source": [
    "### METEOR"
   ]
  },
  {
   "cell_type": "code",
   "execution_count": 50,
   "metadata": {},
   "outputs": [
    {
     "name": "stdout",
     "output_type": "stream",
     "text": [
      "CodeGPT:\n",
      "{'meteor': 0.3853425144586625}\n",
      "\n",
      "GPT-2:\n",
      "{'meteor': 0.3688835618709858}\n",
      "\n",
      "PyCoder:\n",
      "{'meteor': 0.404184820076495}\n",
      "\n"
     ]
    }
   ],
   "source": [
    "print(\"CodeGPT:\\n{}\\n\".format(meteor.compute(predictions=codegpt, references=line_gts)))\n",
    "print(\"GPT-2:\\n{}\\n\".format(meteor.compute(predictions=gpt2, references=line_gts)))\n",
    "print(\"PyCoder:\\n{}\\n\".format(meteor.compute(predictions=pycoder_hard, references=line_gts)))"
   ]
  },
  {
   "cell_type": "markdown",
   "metadata": {},
   "source": [
    "### ROUGE"
   ]
  },
  {
   "cell_type": "code",
   "execution_count": 54,
   "metadata": {},
   "outputs": [
    {
     "name": "stdout",
     "output_type": "stream",
     "text": [
      "CodeGPT:\n",
      "{'rouge1': AggregateScore(low=Score(precision=0.6181568515151136, recall=0.5525602181702238, fmeasure=0.5629034200878842), mid=Score(precision=0.6273003747302716, recall=0.5610920738977718, fmeasure=0.5714111857165138), high=Score(precision=0.6348885053711203, recall=0.5691482304059728, fmeasure=0.5788866674649303)), 'rouge2': AggregateScore(low=Score(precision=0.42828973492830186, recall=0.3916047179921101, fmeasure=0.39481761464534865), mid=Score(precision=0.4371807559775557, recall=0.39989872723961567, fmeasure=0.40325004370356493), high=Score(precision=0.44647882413874523, recall=0.4083111343090509, fmeasure=0.411984002685458)), 'rougeL': AggregateScore(low=Score(precision=0.6169364936309824, recall=0.551198896531781, fmeasure=0.5616080684438737), mid=Score(precision=0.6252338931498428, recall=0.5590615495069156, fmeasure=0.5695718188501826), high=Score(precision=0.6341488088717938, recall=0.5680416614475521, fmeasure=0.57788742729488)), 'rougeLsum': AggregateScore(low=Score(precision=0.6167311567426086, recall=0.55064127236776, fmeasure=0.5613659277334556), mid=Score(precision=0.6254002662771048, recall=0.5592606060976314, fmeasure=0.569744024266748), high=Score(precision=0.633558623926044, recall=0.5677381472481394, fmeasure=0.5776586615494579))}\n",
      "\n",
      "GPT-2:\n",
      "{'rouge1': AggregateScore(low=Score(precision=0.5935998695954402, recall=0.5253456958462475, fmeasure=0.5371211287704721), mid=Score(precision=0.6021817131825915, recall=0.5336018428789637, fmeasure=0.5450644484358653), high=Score(precision=0.6107756732759341, recall=0.5416793039195901, fmeasure=0.5529363154428321)), 'rouge2': AggregateScore(low=Score(precision=0.398132822022725, recall=0.3636523412896473, fmeasure=0.3670739670433923), mid=Score(precision=0.4074375493287381, recall=0.3720064220187209, fmeasure=0.3755868599001927), high=Score(precision=0.41579657318900926, recall=0.3802165643098483, fmeasure=0.3835854606616176)), 'rougeL': AggregateScore(low=Score(precision=0.5916774137539248, recall=0.5232828172010648, fmeasure=0.535006612323316), mid=Score(precision=0.6001228902159468, recall=0.5318342948859209, fmeasure=0.5431721301342074), high=Score(precision=0.6083941133689656, recall=0.540354825625518, fmeasure=0.5512246681937142)), 'rougeLsum': AggregateScore(low=Score(precision=0.5918153831308453, recall=0.5235297210430354, fmeasure=0.5348985970702995), mid=Score(precision=0.6003134873735395, recall=0.5320157683079361, fmeasure=0.5433602181836175), high=Score(precision=0.6083816069742807, recall=0.5404692871997387, fmeasure=0.5513773588630174))}\n",
      "\n",
      "PyCoder:\n",
      "{'rouge1': AggregateScore(low=Score(precision=0.6440604692383407, recall=0.5867190466361197, fmeasure=0.5942611043832141), mid=Score(precision=0.6517690627318498, recall=0.5945533880390615, fmeasure=0.6023622611182871), high=Score(precision=0.659914019112606, recall=0.6022783837247067, fmeasure=0.6100282012343791)), 'rouge2': AggregateScore(low=Score(precision=0.45239301946501165, recall=0.420497853850133, fmeasure=0.4227080436835041), mid=Score(precision=0.46170071596924034, recall=0.42960561919311463, fmeasure=0.4316484693108141), high=Score(precision=0.4701643213596708, recall=0.437955402104401, fmeasure=0.4397292781447001)), 'rougeL': AggregateScore(low=Score(precision=0.640697108209013, recall=0.5837971337693766, fmeasure=0.5918724118877711), mid=Score(precision=0.6488701786484479, recall=0.5917274559786301, fmeasure=0.5996511523695716), high=Score(precision=0.6567385026430357, recall=0.5999271044367128, fmeasure=0.6073891186220314)), 'rougeLsum': AggregateScore(low=Score(precision=0.6402326665511626, recall=0.5830628225478072, fmeasure=0.5911984076500343), mid=Score(precision=0.6491557796653419, recall=0.5922011270266032, fmeasure=0.6000960569462164), high=Score(precision=0.6567095319400456, recall=0.6000618908518764, fmeasure=0.6073534759061666))}\n",
      "\n"
     ]
    }
   ],
   "source": [
    "print(\"CodeGPT:\\n{}\\n\".format(rouge.compute(predictions=codegpt, references=line_gts)))\n",
    "print(\"GPT-2:\\n{}\\n\".format(rouge.compute(predictions=gpt2, references=line_gts)))\n",
    "print(\"PyCoder:\\n{}\\n\".format(rouge.compute(predictions=pycoder_hard, references=line_gts)))"
   ]
  },
  {
   "cell_type": "markdown",
   "metadata": {},
   "source": [
    "## RQ2"
   ]
  },
  {
   "cell_type": "code",
   "execution_count": 56,
   "metadata": {},
   "outputs": [],
   "source": [
    "# line-level rq1\n",
    "pycoder_soft_nw = open(rq2_path + 'softshare_noweight_line.txt').readlines()\n",
    "pycoder_ifn = open(rq2_path + 'ifn_line.txt').readlines()\n",
    "pycoder_hard_nw = open(rq2_path + 'hardshare_noweight_line.txt').readlines()"
   ]
  },
  {
   "cell_type": "markdown",
   "metadata": {},
   "source": [
    "### BLEU-4"
   ]
  },
  {
   "cell_type": "code",
   "execution_count": 57,
   "metadata": {},
   "outputs": [
    {
     "name": "stdout",
     "output_type": "stream",
     "text": [
      "BLEU-4 (pycoder_soft): 39.85\n",
      "BLEU-4 (pycoder_ifn): 44.18\n",
      "BLEU-4 (pycoder_hard): 45.52\n"
     ]
    }
   ],
   "source": [
    "calculate_bleu4(list_gts=line_gts, list_preds=pycoder_soft_nw, name='pycoder_soft')\n",
    "calculate_bleu4(list_gts=line_gts, list_preds=pycoder_ifn, name='pycoder_ifn')\n",
    "calculate_bleu4(list_gts=line_gts, list_preds=pycoder_hard_nw, name='pycoder_hard')"
   ]
  },
  {
   "cell_type": "markdown",
   "metadata": {},
   "source": [
    "### sacrebleu"
   ]
  },
  {
   "cell_type": "code",
   "execution_count": 58,
   "metadata": {},
   "outputs": [
    {
     "name": "stdout",
     "output_type": "stream",
     "text": [
      "pycoder_soft:\n",
      "{'score': 48.528268861947396, 'counts': [71468, 55610, 45544, 38032], 'totals': [90051, 80196, 70698, 62422], 'precisions': [79.36391600315376, 69.34261060402015, 64.4204928003621, 60.92723719201564], 'bp': 0.7118362458438287, 'sys_len': 90051, 'ref_len': 120660}\n",
      "\n",
      "pycoder_ifn:\n",
      "{'score': 52.6703576425902, 'counts': [75630, 59734, 49475, 41714], 'totals': [94166, 84292, 74715, 66293], 'precisions': [80.31561285389631, 70.86556256821525, 66.21829619219702, 62.92368726713227], 'bp': 0.7547609485716966, 'sys_len': 94166, 'ref_len': 120660}\n",
      "\n",
      "pycoder_hard:\n",
      "{'score': 54.227784236363746, 'counts': [77310, 61376, 50951, 42991], 'totals': [95745, 85856, 76241, 67725], 'precisions': [80.74573084756385, 71.48714125978383, 66.82887160451726, 63.47877445551864], 'bp': 0.7708800721778963, 'sys_len': 95745, 'ref_len': 120660}\n",
      "\n"
     ]
    }
   ],
   "source": [
    "print(\"pycoder_soft:\\n{}\\n\".format(sacrebleu.compute(predictions=pycoder_soft_nw, references=line_gts)))\n",
    "print(\"pycoder_ifn:\\n{}\\n\".format(sacrebleu.compute(predictions=pycoder_ifn, references=line_gts)))\n",
    "print(\"pycoder_hard:\\n{}\\n\".format(sacrebleu.compute(predictions=pycoder_hard_nw, references=line_gts)))"
   ]
  },
  {
   "cell_type": "markdown",
   "metadata": {},
   "source": [
    "### METEOR"
   ]
  },
  {
   "cell_type": "code",
   "execution_count": 59,
   "metadata": {},
   "outputs": [
    {
     "name": "stdout",
     "output_type": "stream",
     "text": [
      "pycoder_soft:\n",
      "{'meteor': 0.3735961335339096}\n",
      "\n",
      "pycoder_ifn:\n",
      "{'meteor': 0.39397500841513866}\n",
      "\n",
      "pycoder_hard:\n",
      "{'meteor': 0.4004728666503881}\n",
      "\n"
     ]
    }
   ],
   "source": [
    "print(\"pycoder_soft:\\n{}\\n\".format(meteor.compute(predictions=pycoder_soft_nw, references=line_gts)))\n",
    "print(\"pycoder_ifn:\\n{}\\n\".format(meteor.compute(predictions=pycoder_ifn, references=line_gts)))\n",
    "print(\"pycoder_hard:\\n{}\\n\".format(meteor.compute(predictions=pycoder_hard_nw, references=line_gts)))"
   ]
  },
  {
   "cell_type": "markdown",
   "metadata": {},
   "source": [
    "### ROUGE"
   ]
  },
  {
   "cell_type": "code",
   "execution_count": 60,
   "metadata": {},
   "outputs": [
    {
     "name": "stdout",
     "output_type": "stream",
     "text": [
      "pycoder_soft:\n",
      "{'rouge1': AggregateScore(low=Score(precision=0.6043849001853954, recall=0.5347490300432011, fmeasure=0.5467563993947846), mid=Score(precision=0.6128447649734151, recall=0.5433537235860979, fmeasure=0.554834370375556), high=Score(precision=0.6207592218210309, recall=0.5511930978271057, fmeasure=0.5624970856432038)), 'rouge2': AggregateScore(low=Score(precision=0.41009082279938985, recall=0.3721516537074561, fmeasure=0.3758572417044164), mid=Score(precision=0.4185018836865616, recall=0.38015570965847056, fmeasure=0.3840418821109436), high=Score(precision=0.4272225888211106, recall=0.3881799783395276, fmeasure=0.39213645514075385)), 'rougeL': AggregateScore(low=Score(precision=0.6016314704006815, recall=0.532851777603062, fmeasure=0.5445183244383449), mid=Score(precision=0.610130836427303, recall=0.5407983961344187, fmeasure=0.5523571824215117), high=Score(precision=0.6184434171503517, recall=0.5492484391468152, fmeasure=0.5602439854961383)), 'rougeLsum': AggregateScore(low=Score(precision=0.601795935425156, recall=0.5329969185098472, fmeasure=0.5449612066575055), mid=Score(precision=0.6103969648195348, recall=0.5413811049521366, fmeasure=0.5527470269113385), high=Score(precision=0.6185626784298025, recall=0.5494315257460988, fmeasure=0.5603487467932954))}\n",
      "\n",
      "pycoder_ifn:\n",
      "{'rouge1': AggregateScore(low=Score(precision=0.6291165507923566, recall=0.5696223448229704, fmeasure=0.5784569149079052), mid=Score(precision=0.6376862898518859, recall=0.5778365264691355, fmeasure=0.586513357654177), high=Score(precision=0.6455324966294144, recall=0.5862414567890364, fmeasure=0.5944321652807468)), 'rouge2': AggregateScore(low=Score(precision=0.43745100438093787, recall=0.40598934282169175, fmeasure=0.4079115743639527), mid=Score(precision=0.4464674126492547, recall=0.41455181897021043, fmeasure=0.4164404887449781), high=Score(precision=0.45503708846498836, recall=0.4225171202163565, fmeasure=0.42455262877514627)), 'rougeL': AggregateScore(low=Score(precision=0.6271122023596112, recall=0.5674707606581217, fmeasure=0.5761256989964373), mid=Score(precision=0.6353036596466075, recall=0.5756628343744907, fmeasure=0.584101845826587), high=Score(precision=0.643805417591064, recall=0.5840732553020229, fmeasure=0.5919926847776735)), 'rougeLsum': AggregateScore(low=Score(precision=0.6270162261358057, recall=0.5672883314015943, fmeasure=0.5759585932733998), mid=Score(precision=0.6355833603722059, recall=0.5760938719426245, fmeasure=0.5845441139195771), high=Score(precision=0.6432575286913818, recall=0.5842003387401803, fmeasure=0.5922891987769277))}\n",
      "\n",
      "pycoder_hard:\n",
      "{'rouge1': AggregateScore(low=Score(precision=0.6377093899383312, recall=0.5799752695146189, fmeasure=0.5885225716461832), mid=Score(precision=0.6461048800397228, recall=0.5882922626700842, fmeasure=0.5965801582167695), high=Score(precision=0.6539471948446803, recall=0.5964026655287091, fmeasure=0.6045341599415774)), 'rouge2': AggregateScore(low=Score(precision=0.44698625124429325, recall=0.41516405741886536, fmeasure=0.41735545107566396), mid=Score(precision=0.45567658751521545, recall=0.42328884653307985, fmeasure=0.42582200150511335), high=Score(precision=0.4642749627193336, recall=0.43152644961310843, fmeasure=0.4341469000777254)), 'rougeL': AggregateScore(low=Score(precision=0.635005811044508, recall=0.5777180996337306, fmeasure=0.5862152006254319), mid=Score(precision=0.6430860379591559, recall=0.5856440879396803, fmeasure=0.5940088082225323), high=Score(precision=0.6508744892420001, recall=0.5941886687021743, fmeasure=0.6017687173167078)), 'rougeLsum': AggregateScore(low=Score(precision=0.6347923767672339, recall=0.5774549797199966, fmeasure=0.586012933722237), mid=Score(precision=0.6432624387818363, recall=0.5860604172848627, fmeasure=0.5942225542109238), high=Score(precision=0.6510283238487957, recall=0.5938991576194041, fmeasure=0.601974893453703))}\n",
      "\n"
     ]
    }
   ],
   "source": [
    "print(\"pycoder_soft:\\n{}\\n\".format(rouge.compute(predictions=pycoder_soft_nw, references=line_gts)))\n",
    "print(\"pycoder_ifn:\\n{}\\n\".format(rouge.compute(predictions=pycoder_ifn, references=line_gts)))\n",
    "print(\"pycoder_hard:\\n{}\\n\".format(rouge.compute(predictions=pycoder_hard_nw, references=line_gts)))"
   ]
  },
  {
   "cell_type": "markdown",
   "metadata": {},
   "source": [
    "## RQ3"
   ]
  },
  {
   "cell_type": "code",
   "execution_count": 58,
   "metadata": {},
   "outputs": [
    {
     "name": "stdout",
     "output_type": "stream",
     "text": [
      "hardshare_noweight_checkpoint-210000-2.2808_code_predictions_line.txt\n",
      "91_checkpoint-210000-2.2806_code_predictions_line_normal.txt\n",
      "19_checkpoint-210000-2.3814_code_predictions_line.txt\n",
      "73_checkpoint-199000-2.276_code_predictions_line.txt\n",
      "64_checkpoint-210000-2.2805_code_predictions_line.txt\n",
      "37_checkpoint-210000-2.2879_code_predictions_line.txt\n",
      "46_checkpoint-210000-2.2824_code_predictions_line.txt\n",
      "28_checkpoint-210000-2.3245_code_predictions_line_normal.txt\n",
      "55_checkpoint-200000-2.2774_code_predictions_line.txt\n",
      "82_checkpoint-211000-2.2811_code_predictions_line.txt\n"
     ]
    }
   ],
   "source": [
    "rq3_data = {}\n",
    "for filename in os.listdir(rq3_path):\n",
    "    print(filename)\n",
    "    rq3_data[filename] = open(rq3_path + filename).readlines()"
   ]
  },
  {
   "cell_type": "markdown",
   "metadata": {},
   "source": [
    "### BLEU-4"
   ]
  },
  {
   "cell_type": "code",
   "execution_count": 59,
   "metadata": {},
   "outputs": [
    {
     "name": "stdout",
     "output_type": "stream",
     "text": [
      "BLEU-4 (hardshare_noweight_checkpoint-210000-2.2808_code_predictions_line.txt): 45.52\n",
      "BLEU-4 (91_checkpoint-210000-2.2806_code_predictions_line_normal.txt): 46.03\n",
      "BLEU-4 (19_checkpoint-210000-2.3814_code_predictions_line.txt): 41.8\n",
      "BLEU-4 (73_checkpoint-199000-2.276_code_predictions_line.txt): 45.8\n",
      "BLEU-4 (64_checkpoint-210000-2.2805_code_predictions_line.txt): 45.75\n",
      "BLEU-4 (37_checkpoint-210000-2.2879_code_predictions_line.txt): 44.83\n",
      "BLEU-4 (46_checkpoint-210000-2.2824_code_predictions_line.txt): 44.77\n",
      "BLEU-4 (28_checkpoint-210000-2.3245_code_predictions_line_normal.txt): 43.79\n",
      "BLEU-4 (55_checkpoint-200000-2.2774_code_predictions_line.txt): 45.39\n",
      "BLEU-4 (82_checkpoint-211000-2.2811_code_predictions_line.txt): 46.12\n"
     ]
    }
   ],
   "source": [
    "for k in rq3_data:\n",
    "    calculate_bleu4(list_gts=line_gts, list_preds=rq3_data[k], name=k)"
   ]
  },
  {
   "cell_type": "markdown",
   "metadata": {},
   "source": [
    "### sacrebleu"
   ]
  },
  {
   "cell_type": "code",
   "execution_count": 63,
   "metadata": {},
   "outputs": [
    {
     "name": "stdout",
     "output_type": "stream",
     "text": [
      "hardshare_noweight_checkpoint-210000-2.2808_code_predictions_line.txt:\n",
      "{'score': 54.227784236363746, 'counts': [77310, 61376, 50951, 42991], 'totals': [95745, 85856, 76241, 67725], 'precisions': [80.74573084756385, 71.48714125978383, 66.82887160451726, 63.47877445551864], 'bp': 0.7708800721778963, 'sys_len': 95745, 'ref_len': 120660}\n",
      "\n",
      "91_checkpoint-210000-2.2806_code_predictions_line_normal.txt:\n",
      "{'score': 54.61459820571429, 'counts': [77724, 61789, 51335, 43320], 'totals': [96177, 86293, 76677, 68140], 'precisions': [80.81350010917372, 71.60372220226438, 66.94967200073033, 63.57499266216613], 'bp': 0.7752560620968585, 'sys_len': 96177, 'ref_len': 120660}\n",
      "\n",
      "19_checkpoint-210000-2.3814_code_predictions_line.txt:\n",
      "{'score': 50.58921667169423, 'counts': [73534, 57671, 47489, 39864], 'totals': [91849, 81984, 72445, 64071], 'precisions': [80.05966314276694, 70.34421350507417, 65.55179791566016, 62.21847637776841], 'bp': 0.7307543776711838, 'sys_len': 91849, 'ref_len': 120660}\n",
      "\n",
      "73_checkpoint-199000-2.276_code_predictions_line.txt:\n",
      "{'score': 54.51171270616204, 'counts': [77692, 61620, 51168, 43208], 'totals': [96642, 86753, 77127, 68598], 'precisions': [80.39154818815835, 71.02924394545434, 66.34252596367031, 62.98725910376396], 'bp': 0.7799499829219326, 'sys_len': 96642, 'ref_len': 120660}\n",
      "\n",
      "64_checkpoint-210000-2.2805_code_predictions_line.txt:\n",
      "{'score': 54.66864081375212, 'counts': [77821, 61832, 51368, 43374], 'totals': [96167, 86276, 76664, 68128], 'precisions': [80.92276976509613, 71.66767119477028, 67.00406970677241, 63.6654532644434], 'bp': 0.775154931430342, 'sys_len': 96167, 'ref_len': 120660}\n",
      "\n",
      "37_checkpoint-210000-2.2879_code_predictions_line.txt:\n",
      "{'score': 53.35817679402948, 'counts': [76476, 60421, 50055, 42216], 'totals': [95327, 85444, 75845, 67353], 'precisions': [80.22491004647162, 70.71415195917794, 65.99644010811524, 62.67872255133402], 'bp': 0.7666319695649461, 'sys_len': 95327, 'ref_len': 120660}\n",
      "\n",
      "46_checkpoint-210000-2.2824_code_predictions_line.txt:\n",
      "{'score': 53.40653188348374, 'counts': [76387, 60544, 50196, 42325], 'totals': [94637, 84749, 75160, 66698], 'precisions': [80.71578769403088, 71.43919102290293, 66.78552421500798, 63.457674892800384], 'bp': 0.7595895803332089, 'sys_len': 94637, 'ref_len': 120660}\n",
      "\n",
      "28_checkpoint-210000-2.3245_code_predictions_line_normal.txt:\n",
      "{'score': 52.61404087796039, 'counts': [75733, 59686, 49321, 41496], 'totals': [94902, 85017, 75439, 66975], 'precisions': [79.8012686771617, 70.20478257289719, 65.37865030024258, 61.95744680851064], 'bp': 0.7622986812182252, 'sys_len': 94902, 'ref_len': 120660}\n",
      "\n",
      "55_checkpoint-200000-2.2774_code_predictions_line.txt:\n",
      "{'score': 53.85589055291924, 'counts': [76833, 61016, 50642, 42737], 'totals': [94836, 84948, 75341, 66862], 'precisions': [81.01670251803112, 71.82747092338843, 67.21705313176092, 63.91821961652359], 'bp': 0.761624476622979, 'sys_len': 94836, 'ref_len': 120660}\n",
      "\n",
      "82_checkpoint-211000-2.2811_code_predictions_line.txt:\n",
      "{'score': 54.81917263646197, 'counts': [77882, 61954, 51529, 43559], 'totals': [96489, 86604, 76982, 68443], 'precisions': [80.71593653162536, 71.53711144981756, 66.93642669714998, 63.642739213652234], 'bp': 0.778407401974046, 'sys_len': 96489, 'ref_len': 120660}\n",
      "\n"
     ]
    }
   ],
   "source": [
    "for k in rq3_data:\n",
    "    print(\"{}:\\n{}\\n\".format(k, sacrebleu.compute(predictions=rq3_data[k], references=line_gts)))"
   ]
  },
  {
   "cell_type": "markdown",
   "metadata": {},
   "source": [
    "### METEOR"
   ]
  },
  {
   "cell_type": "code",
   "execution_count": 64,
   "metadata": {},
   "outputs": [
    {
     "name": "stdout",
     "output_type": "stream",
     "text": [
      "hardshare_noweight_checkpoint-210000-2.2808_code_predictions_line.txt:\n",
      "{'meteor': 0.4004728666503881}\n",
      "\n",
      "91_checkpoint-210000-2.2806_code_predictions_line_normal.txt:\n",
      "{'meteor': 0.404184820076495}\n",
      "\n",
      "19_checkpoint-210000-2.3814_code_predictions_line.txt:\n",
      "{'meteor': 0.3833605437038691}\n",
      "\n",
      "73_checkpoint-199000-2.276_code_predictions_line.txt:\n",
      "{'meteor': 0.40273881543706513}\n",
      "\n",
      "64_checkpoint-210000-2.2805_code_predictions_line.txt:\n",
      "{'meteor': 0.40312876099173284}\n",
      "\n",
      "37_checkpoint-210000-2.2879_code_predictions_line.txt:\n",
      "{'meteor': 0.3968492749776321}\n",
      "\n",
      "46_checkpoint-210000-2.2824_code_predictions_line.txt:\n",
      "{'meteor': 0.3977794770429909}\n",
      "\n",
      "28_checkpoint-210000-2.3245_code_predictions_line_normal.txt:\n",
      "{'meteor': 0.39249941619339496}\n",
      "\n",
      "55_checkpoint-200000-2.2774_code_predictions_line.txt:\n",
      "{'meteor': 0.39988447356600837}\n",
      "\n",
      "82_checkpoint-211000-2.2811_code_predictions_line.txt:\n",
      "{'meteor': 0.40365328811359397}\n",
      "\n"
     ]
    }
   ],
   "source": [
    "for k in rq3_data:\n",
    "    print(\"{}:\\n{}\\n\".format(k, meteor.compute(predictions=rq3_data[k], references=line_gts)))"
   ]
  },
  {
   "cell_type": "markdown",
   "metadata": {},
   "source": [
    "### ROUGE"
   ]
  },
  {
   "cell_type": "code",
   "execution_count": 65,
   "metadata": {},
   "outputs": [
    {
     "name": "stdout",
     "output_type": "stream",
     "text": [
      "hardshare_noweight_checkpoint-210000-2.2808_code_predictions_line.txt:\n",
      "{'rouge1': AggregateScore(low=Score(precision=0.6377093899383312, recall=0.5799752695146189, fmeasure=0.5885225716461832), mid=Score(precision=0.6461048800397228, recall=0.5882922626700842, fmeasure=0.5965801582167695), high=Score(precision=0.6539471948446803, recall=0.5964026655287091, fmeasure=0.6045341599415774)), 'rouge2': AggregateScore(low=Score(precision=0.44698625124429325, recall=0.41516405741886536, fmeasure=0.41735545107566396), mid=Score(precision=0.45567658751521545, recall=0.42328884653307985, fmeasure=0.42582200150511335), high=Score(precision=0.4642749627193336, recall=0.43152644961310843, fmeasure=0.4341469000777254)), 'rougeL': AggregateScore(low=Score(precision=0.635005811044508, recall=0.5777180996337306, fmeasure=0.5862152006254319), mid=Score(precision=0.6430860379591559, recall=0.5856440879396803, fmeasure=0.5940088082225323), high=Score(precision=0.6508744892420001, recall=0.5941886687021743, fmeasure=0.6017687173167078)), 'rougeLsum': AggregateScore(low=Score(precision=0.6347923767672339, recall=0.5774549797199966, fmeasure=0.586012933722237), mid=Score(precision=0.6432624387818363, recall=0.5860604172848627, fmeasure=0.5942225542109238), high=Score(precision=0.6510283238487957, recall=0.5938991576194041, fmeasure=0.601974893453703))}\n",
      "\n",
      "91_checkpoint-210000-2.2806_code_predictions_line_normal.txt:\n",
      "{'rouge1': AggregateScore(low=Score(precision=0.6440604692383407, recall=0.5867190466361197, fmeasure=0.5942611043832141), mid=Score(precision=0.6517690627318498, recall=0.5945533880390615, fmeasure=0.6023622611182871), high=Score(precision=0.659914019112606, recall=0.6022783837247067, fmeasure=0.6100282012343791)), 'rouge2': AggregateScore(low=Score(precision=0.45239301946501165, recall=0.420497853850133, fmeasure=0.4227080436835041), mid=Score(precision=0.46170071596924034, recall=0.42960561919311463, fmeasure=0.4316484693108141), high=Score(precision=0.4701643213596708, recall=0.437955402104401, fmeasure=0.4397292781447001)), 'rougeL': AggregateScore(low=Score(precision=0.640697108209013, recall=0.5837971337693766, fmeasure=0.5918724118877711), mid=Score(precision=0.6488701786484479, recall=0.5917274559786301, fmeasure=0.5996511523695716), high=Score(precision=0.6567385026430357, recall=0.5999271044367128, fmeasure=0.6073891186220314)), 'rougeLsum': AggregateScore(low=Score(precision=0.6402326665511626, recall=0.5830628225478072, fmeasure=0.5911984076500343), mid=Score(precision=0.6491557796653419, recall=0.5922011270266032, fmeasure=0.6000960569462164), high=Score(precision=0.6567095319400456, recall=0.6000618908518764, fmeasure=0.6073534759061666))}\n",
      "\n",
      "19_checkpoint-210000-2.3814_code_predictions_line.txt:\n",
      "{'rouge1': AggregateScore(low=Score(precision=0.615796627211622, recall=0.5496120271375938, fmeasure=0.56084866781954), mid=Score(precision=0.6236355876880999, recall=0.5577238395755295, fmeasure=0.5685777898479221), high=Score(precision=0.6313321082707845, recall=0.5654458310358612, fmeasure=0.5761609540330118)), 'rouge2': AggregateScore(low=Score(precision=0.4228463766907853, recall=0.3880971988206086, fmeasure=0.3911462713692704), mid=Score(precision=0.43122616346782006, recall=0.3967055458206914, fmeasure=0.3997199790821416), high=Score(precision=0.43991064792595813, recall=0.4049171418510508, fmeasure=0.4076055957384387)), 'rougeL': AggregateScore(low=Score(precision=0.6131893188105102, recall=0.5477435971188972, fmeasure=0.5585987060435349), mid=Score(precision=0.6216249938544898, recall=0.5557664510915508, fmeasure=0.5665867083138219), high=Score(precision=0.6296353710093051, recall=0.564038850377087, fmeasure=0.5747048414951396)), 'rougeLsum': AggregateScore(low=Score(precision=0.6131900519749154, recall=0.5467807747821454, fmeasure=0.5581639347801076), mid=Score(precision=0.6216145061352814, recall=0.5557299599836176, fmeasure=0.56670088946787), high=Score(precision=0.6295169440465549, recall=0.5647596238117417, fmeasure=0.5752779840724298))}\n",
      "\n",
      "73_checkpoint-199000-2.276_code_predictions_line.txt:\n",
      "{'rouge1': AggregateScore(low=Score(precision=0.6393782879731152, recall=0.5824688775200971, fmeasure=0.5907135926037657), mid=Score(precision=0.6472265509982247, recall=0.5903504201365315, fmeasure=0.5983867847894848), high=Score(precision=0.6549312676139827, recall=0.5986104370324128, fmeasure=0.6065041129622888)), 'rouge2': AggregateScore(low=Score(precision=0.4500665669190831, recall=0.418052090678544, fmeasure=0.4203540564975486), mid=Score(precision=0.45836630576374393, recall=0.42645103855178634, fmeasure=0.42847962976729553), high=Score(precision=0.4669430692557683, recall=0.4346220787529231, fmeasure=0.43653546235039836)), 'rougeL': AggregateScore(low=Score(precision=0.6359608514732092, recall=0.5799991632369121, fmeasure=0.5881363139337439), mid=Score(precision=0.6442052460150582, recall=0.5875761461720082, fmeasure=0.5956559258365308), high=Score(precision=0.6521025039719167, recall=0.5957316556729781, fmeasure=0.6034338592636576)), 'rougeLsum': AggregateScore(low=Score(precision=0.6357546008434773, recall=0.5794871649079562, fmeasure=0.5878413829967643), mid=Score(precision=0.644363025908382, recall=0.5879702881655368, fmeasure=0.5959435120483209), high=Score(precision=0.6523222562350802, recall=0.5959772656044254, fmeasure=0.6035923370325488))}\n",
      "\n",
      "64_checkpoint-210000-2.2805_code_predictions_line.txt:\n",
      "{'rouge1': AggregateScore(low=Score(precision=0.6413857277780849, recall=0.5827290059386726, fmeasure=0.5914127118817125), mid=Score(precision=0.6500377838718809, recall=0.5904982206508267, fmeasure=0.5996106458912812), high=Score(precision=0.6573187765554062, recall=0.5988461881103765, fmeasure=0.6074147073385544)), 'rouge2': AggregateScore(low=Score(precision=0.45120526703057257, recall=0.417885472732693, fmeasure=0.4206805384476376), mid=Score(precision=0.46001292105856895, recall=0.4266515164635092, fmeasure=0.42940974882989336), high=Score(precision=0.46876092292144944, recall=0.43483321385937934, fmeasure=0.43771501419162046)), 'rougeL': AggregateScore(low=Score(precision=0.6387747640331581, recall=0.5797095027815105, fmeasure=0.5891404380985608), mid=Score(precision=0.6468844681761181, recall=0.5877169092303889, fmeasure=0.5967949717265977), high=Score(precision=0.6545175759125806, recall=0.5962982717313736, fmeasure=0.6050123038138795)), 'rougeLsum': AggregateScore(low=Score(precision=0.6387815701085264, recall=0.5801024841490131, fmeasure=0.5891261292260016), mid=Score(precision=0.6471940156056217, recall=0.5883744935155455, fmeasure=0.5974016687430714), high=Score(precision=0.6550825061504181, recall=0.5967583269476467, fmeasure=0.6054115836761154))}\n",
      "\n",
      "37_checkpoint-210000-2.2879_code_predictions_line.txt:\n",
      "{'rouge1': AggregateScore(low=Score(precision=0.6327512940382668, recall=0.5742969072651293, fmeasure=0.5825812409275519), mid=Score(precision=0.6411823210181253, recall=0.5825873682739591, fmeasure=0.5907732236668085), high=Score(precision=0.6486848865567709, recall=0.5905341330383894, fmeasure=0.5987372789019096)), 'rouge2': AggregateScore(low=Score(precision=0.4398728365067268, recall=0.4090700405527664, fmeasure=0.41084381696087424), mid=Score(precision=0.4487120897915787, recall=0.4176748651102659, fmeasure=0.41918357437107157), high=Score(precision=0.45728584229837943, recall=0.4256376959445658, fmeasure=0.4273567903919564)), 'rougeL': AggregateScore(low=Score(precision=0.6308575024121137, recall=0.5728909355053522, fmeasure=0.5811205999596775), mid=Score(precision=0.6388364808940118, recall=0.5804529065556268, fmeasure=0.5889409481581656), high=Score(precision=0.6468397906539493, recall=0.5884235344107167, fmeasure=0.5961718444118126)), 'rougeLsum': AggregateScore(low=Score(precision=0.6304744750275063, recall=0.5721183665478906, fmeasure=0.5803372377152874), mid=Score(precision=0.639218523454679, recall=0.5807857984719555, fmeasure=0.5891679711083209), high=Score(precision=0.6469496142594707, recall=0.5893169220018405, fmeasure=0.59700805359623))}\n",
      "\n",
      "46_checkpoint-210000-2.2824_code_predictions_line.txt:\n",
      "{'rouge1': AggregateScore(low=Score(precision=0.636346523204271, recall=0.5764168535853719, fmeasure=0.5856934151596555), mid=Score(precision=0.6446292689994841, recall=0.5841744226897595, fmeasure=0.5932146748594423), high=Score(precision=0.6528274448621669, recall=0.5925283173903988, fmeasure=0.6012134288125343)), 'rouge2': AggregateScore(low=Score(precision=0.44379647200039224, recall=0.4112883817535169, fmeasure=0.4131533833258395), mid=Score(precision=0.4523787027894757, recall=0.4194826952175536, fmeasure=0.42173858050515495), high=Score(precision=0.4614134978980619, recall=0.42838127172743634, fmeasure=0.4308846945392505)), 'rougeL': AggregateScore(low=Score(precision=0.6339624797993123, recall=0.5740081333823801, fmeasure=0.5833996942088223), mid=Score(precision=0.6421044872376167, recall=0.5818894281263114, fmeasure=0.590933094076397), high=Score(precision=0.6501495526937542, recall=0.5901793131113146, fmeasure=0.5986485193239637)), 'rougeLsum': AggregateScore(low=Score(precision=0.6334612754868811, recall=0.5735699818487123, fmeasure=0.5830529844871711), mid=Score(precision=0.6421927370620797, recall=0.5822227848942931, fmeasure=0.5911411633957341), high=Score(precision=0.6501628596809822, recall=0.590501040029738, fmeasure=0.5990555226783334))}\n",
      "\n",
      "28_checkpoint-210000-2.3245_code_predictions_line_normal.txt:\n",
      "{'rouge1': AggregateScore(low=Score(precision=0.6276958539485378, recall=0.5663500238284149, fmeasure=0.5753283947386342), mid=Score(precision=0.6354284675539701, recall=0.5741823600710978, fmeasure=0.5830715446932162), high=Score(precision=0.6429722373377015, recall=0.5820010136437637, fmeasure=0.5908696716847865)), 'rouge2': AggregateScore(low=Score(precision=0.43440326806162144, recall=0.40032362308379615, fmeasure=0.4029282165812904), mid=Score(precision=0.44307281668820725, recall=0.408722534002684, fmeasure=0.41123781978855023), high=Score(precision=0.4515934818188809, recall=0.41710816552559127, fmeasure=0.4195264567996022)), 'rougeL': AggregateScore(low=Score(precision=0.6244064437888718, recall=0.5632716962503729, fmeasure=0.5721081827971973), mid=Score(precision=0.6327690257087708, recall=0.571884218268907, fmeasure=0.5806929334901959), high=Score(precision=0.6405842525686261, recall=0.57935288154032, fmeasure=0.5881587082721159)), 'rougeLsum': AggregateScore(low=Score(precision=0.6244064200682073, recall=0.56375251995415, fmeasure=0.5727899070462841), mid=Score(precision=0.6327325755199074, recall=0.5719032541419478, fmeasure=0.5808477479914728), high=Score(precision=0.6403694092548059, recall=0.5799179664581794, fmeasure=0.5885728288680527))}\n",
      "\n",
      "55_checkpoint-200000-2.2774_code_predictions_line.txt:\n",
      "{'rouge1': AggregateScore(low=Score(precision=0.6394350545865546, recall=0.5796348567156016, fmeasure=0.5886920454559871), mid=Score(precision=0.6474557632756517, recall=0.5876922658514558, fmeasure=0.5966115507374532), high=Score(precision=0.6549635169356331, recall=0.5958597346800282, fmeasure=0.6043375265283205)), 'rouge2': AggregateScore(low=Score(precision=0.4476180828919169, recall=0.4151721135538898, fmeasure=0.4175044617921111), mid=Score(precision=0.45619250822567337, recall=0.42403892449528635, fmeasure=0.4262773346390767), high=Score(precision=0.4647526762181879, recall=0.43225610009883936, fmeasure=0.4346942177042236)), 'rougeL': AggregateScore(low=Score(precision=0.6365381012646972, recall=0.5772252448206407, fmeasure=0.5863908189131714), mid=Score(precision=0.6447175671571808, recall=0.5853895236400901, fmeasure=0.5941949261144297), high=Score(precision=0.6526792666123373, recall=0.5938310590758443, fmeasure=0.6020841714857835)), 'rougeLsum': AggregateScore(low=Score(precision=0.6364739438696452, recall=0.57718478754904, fmeasure=0.5863125639461649), mid=Score(precision=0.6448682684440836, recall=0.585817682928264, fmeasure=0.5945977729927614), high=Score(precision=0.6528324371618479, recall=0.5939492256242442, fmeasure=0.6023934769441683))}\n",
      "\n",
      "82_checkpoint-211000-2.2811_code_predictions_line.txt:\n",
      "{'rouge1': AggregateScore(low=Score(precision=0.6395282047582782, recall=0.5832838355823813, fmeasure=0.5915388657046475), mid=Score(precision=0.6476856513878706, recall=0.591510725902852, fmeasure=0.599405986904771), high=Score(precision=0.655640537617787, recall=0.5996286528944773, fmeasure=0.607016181749562)), 'rouge2': AggregateScore(low=Score(precision=0.45032907228714836, recall=0.41894320806255475, fmeasure=0.4210062275145925), mid=Score(precision=0.459669632967299, recall=0.42745642145860807, fmeasure=0.42956796153513044), high=Score(precision=0.46838744437058105, recall=0.435695567316078, fmeasure=0.43769996311299764)), 'rougeL': AggregateScore(low=Score(precision=0.6370452963997688, recall=0.5812360455786, fmeasure=0.5891442332357715), mid=Score(precision=0.645158191655767, recall=0.5890980649860911, fmeasure=0.5969066866004378), high=Score(precision=0.6531784646149862, recall=0.5975012605372363, fmeasure=0.6051695416473994)), 'rougeLsum': AggregateScore(low=Score(precision=0.6368839542921478, recall=0.580889873909366, fmeasure=0.5888877184517453), mid=Score(precision=0.6452911534874102, recall=0.5895395043428386, fmeasure=0.5973610166707233), high=Score(precision=0.6530931619209939, recall=0.5978190138229941, fmeasure=0.6053072714656486))}\n",
      "\n"
     ]
    }
   ],
   "source": [
    "for k in rq3_data:\n",
    "    print(\"{}:\\n{}\\n\".format(k, rouge.compute(predictions=rq3_data[k], references=line_gts)))"
   ]
  },
  {
   "cell_type": "markdown",
   "metadata": {},
   "source": [
    "## RQ4"
   ]
  },
  {
   "cell_type": "markdown",
   "metadata": {},
   "source": [
    "### CodeXGLUE"
   ]
  },
  {
   "cell_type": "code",
   "execution_count": 61,
   "metadata": {},
   "outputs": [
    {
     "name": "stdout",
     "output_type": "stream",
     "text": [
      "checkpoint-210000-2.2806_code_predictions_line_beam1.txt\n",
      "checkpoint-210000-2.2806_code_predictions_line_normal_beam5.txt\n"
     ]
    }
   ],
   "source": [
    "rq4_data_codexglue = {}\n",
    "for dir in os.listdir(rq4_path + 'codexglue'):\n",
    "    for filename in os.listdir(rq4_path + 'codexglue/' + dir):\n",
    "        print(filename)\n",
    "        rq4_data_codexglue[filename] = open(os.path.join(rq4_path,'codexglue',dir,filename)).readlines()"
   ]
  },
  {
   "cell_type": "markdown",
   "metadata": {},
   "source": [
    "#### BLEU-4"
   ]
  },
  {
   "cell_type": "code",
   "execution_count": 62,
   "metadata": {},
   "outputs": [
    {
     "name": "stdout",
     "output_type": "stream",
     "text": [
      "BLEU-4 (checkpoint-210000-2.2806_code_predictions_line_beam1.txt): 47.83\n",
      "BLEU-4 (checkpoint-210000-2.2806_code_predictions_line_normal_beam5.txt): 46.03\n"
     ]
    }
   ],
   "source": [
    "for k in rq4_data_codexglue:\n",
    "    calculate_bleu4(list_gts=line_gts, list_preds=rq4_data_codexglue[k], name=k)"
   ]
  },
  {
   "cell_type": "markdown",
   "metadata": {},
   "source": [
    "#### sacrebleu"
   ]
  },
  {
   "cell_type": "code",
   "execution_count": 72,
   "metadata": {},
   "outputs": [
    {
     "name": "stdout",
     "output_type": "stream",
     "text": [
      "checkpoint-210000-2.2806_code_predictions_line_beam1.txt:\n",
      "{'score': 55.64270271823738, 'counts': [85016, 67030, 55624, 47030], 'totals': [126738, 116798, 107028, 98160], 'precisions': [67.08011803878868, 57.38968133015976, 51.9714467242217, 47.91157294213529], 'bp': 1.0, 'sys_len': 126738, 'ref_len': 120660}\n",
      "\n",
      "checkpoint-210000-2.2806_code_predictions_line_normal_beam5.txt:\n",
      "{'score': 54.61459820571429, 'counts': [77724, 61789, 51335, 43320], 'totals': [96177, 86293, 76677, 68140], 'precisions': [80.81350010917372, 71.60372220226438, 66.94967200073033, 63.57499266216613], 'bp': 0.7752560620968585, 'sys_len': 96177, 'ref_len': 120660}\n",
      "\n"
     ]
    }
   ],
   "source": [
    "for k in rq4_data_codexglue:\n",
    "    print(\"{}:\\n{}\\n\".format(k, sacrebleu.compute(predictions=rq4_data_codexglue[k], references=line_gts)))"
   ]
  },
  {
   "cell_type": "markdown",
   "metadata": {},
   "source": [
    "#### METEOR"
   ]
  },
  {
   "cell_type": "code",
   "execution_count": 74,
   "metadata": {},
   "outputs": [
    {
     "name": "stdout",
     "output_type": "stream",
     "text": [
      "checkpoint-210000-2.2806_code_predictions_line_beam1.txt:\n",
      "{'meteor': 0.4234125423669698}\n",
      "\n",
      "checkpoint-210000-2.2806_code_predictions_line_normal_beam5.txt:\n",
      "{'meteor': 0.404184820076495}\n",
      "\n"
     ]
    }
   ],
   "source": [
    "for k in rq4_data_codexglue:\n",
    "    print(\"{}:\\n{}\\n\".format(k, meteor.compute(predictions=rq4_data_codexglue[k], references=line_gts)))"
   ]
  },
  {
   "cell_type": "markdown",
   "metadata": {},
   "source": [
    "#### ROUGE"
   ]
  },
  {
   "cell_type": "code",
   "execution_count": 73,
   "metadata": {},
   "outputs": [
    {
     "name": "stdout",
     "output_type": "stream",
     "text": [
      "checkpoint-210000-2.2806_code_predictions_line_beam1.txt:\n",
      "{'rouge1': AggregateScore(low=Score(precision=0.6265627922329835, recall=0.6137624905696709, fmeasure=0.6001988032540796), mid=Score(precision=0.6349035095084048, recall=0.6219385993400351, fmeasure=0.6082671985340321), high=Score(precision=0.642722913880297, recall=0.6292597837290033, fmeasure=0.6154849774338748)), 'rouge2': AggregateScore(low=Score(precision=0.4440709637001721, recall=0.4383163109293853, fmeasure=0.426649434196961), mid=Score(precision=0.45260311077758586, recall=0.44703144981734155, fmeasure=0.4350356203623372), high=Score(precision=0.4608238985744604, recall=0.4552372764742027, fmeasure=0.442965540789942)), 'rougeL': AggregateScore(low=Score(precision=0.6234166604401626, recall=0.6101868089067933, fmeasure=0.5973804226216365), mid=Score(precision=0.6311441838632676, recall=0.6180993008098052, fmeasure=0.6046299693408844), high=Score(precision=0.6391678155898257, recall=0.6262818100899632, fmeasure=0.6125551743978483)), 'rougeLsum': AggregateScore(low=Score(precision=0.6224285047527995, recall=0.6099882149973461, fmeasure=0.5968697378546907), mid=Score(precision=0.6313487410600711, recall=0.6186204839107409, fmeasure=0.6050605846177601), high=Score(precision=0.6389293708994968, recall=0.6263614702514303, fmeasure=0.6124408102525327))}\n",
      "\n",
      "checkpoint-210000-2.2806_code_predictions_line_normal_beam5.txt:\n",
      "{'rouge1': AggregateScore(low=Score(precision=0.6440604692383407, recall=0.5867190466361197, fmeasure=0.5942611043832141), mid=Score(precision=0.6517690627318498, recall=0.5945533880390615, fmeasure=0.6023622611182871), high=Score(precision=0.659914019112606, recall=0.6022783837247067, fmeasure=0.6100282012343791)), 'rouge2': AggregateScore(low=Score(precision=0.45239301946501165, recall=0.420497853850133, fmeasure=0.4227080436835041), mid=Score(precision=0.46170071596924034, recall=0.42960561919311463, fmeasure=0.4316484693108141), high=Score(precision=0.4701643213596708, recall=0.437955402104401, fmeasure=0.4397292781447001)), 'rougeL': AggregateScore(low=Score(precision=0.640697108209013, recall=0.5837971337693766, fmeasure=0.5918724118877711), mid=Score(precision=0.6488701786484479, recall=0.5917274559786301, fmeasure=0.5996511523695716), high=Score(precision=0.6567385026430357, recall=0.5999271044367128, fmeasure=0.6073891186220314)), 'rougeLsum': AggregateScore(low=Score(precision=0.6402326665511626, recall=0.5830628225478072, fmeasure=0.5911984076500343), mid=Score(precision=0.6491557796653419, recall=0.5922011270266032, fmeasure=0.6000960569462164), high=Score(precision=0.6567095319400456, recall=0.6000618908518764, fmeasure=0.6073534759061666))}\n",
      "\n"
     ]
    }
   ],
   "source": [
    "for k in rq4_data_codexglue:\n",
    "    print(\"{}:\\n{}\\n\".format(k, rouge.compute(predictions=rq4_data_codexglue[k], references=line_gts)))"
   ]
  },
  {
   "cell_type": "markdown",
   "metadata": {},
   "source": [
    "### HuggingFace"
   ]
  },
  {
   "cell_type": "code",
   "execution_count": 63,
   "metadata": {},
   "outputs": [
    {
     "name": "stdout",
     "output_type": "stream",
     "text": [
      "seed24_sampling_temp_text_outputs.txt\n",
      "seed0_sampling_temp_text_outputs.txt\n",
      "seed64_sampling_temp_text_outputs.txt\n",
      "seed42_sampling_temp_text_outputs.txt\n",
      "seed100_sampling_temp_text_outputs.txt\n",
      "greedy_text_outputs.txt\n",
      "beam_text_outputs.txt\n",
      "seed42_top_k_text_outputs.txt\n",
      "seed24_top_k_text_outputs.txt\n",
      "seed100_top_k_text_outputs.txt\n",
      "seed64_top_k_text_outputs.txt\n",
      "seed0_top_k_text_outputs.txt\n",
      "seed100_top_p_text_outputs.txt\n",
      "seed24_top_p_text_outputs.txt\n",
      "seed0_top_p_text_outputs.txt\n",
      "seed64_top_p_text_outputs.txt\n",
      "seed42_top_p_text_outputs.txt\n",
      "seed0_sampling_text_outputs.txt\n",
      "seed42_sampling_text_outputs.txt\n",
      "seed64_sampling_text_outputs.txt\n",
      "seed100_sampling_text_outputs.txt\n",
      "seed24_sampling_text_outputs.txt\n"
     ]
    }
   ],
   "source": [
    "rq4_data_huggingface = {}\n",
    "for dir in os.listdir(rq4_path + 'huggingface'):\n",
    "    for filename in os.listdir(rq4_path + 'huggingface/' + dir):\n",
    "        print(filename)\n",
    "        rq4_data_huggingface[filename] = open(os.path.join(rq4_path,'huggingface',dir,filename)).readlines()"
   ]
  },
  {
   "cell_type": "markdown",
   "metadata": {},
   "source": [
    "#### BLEU-4"
   ]
  },
  {
   "cell_type": "code",
   "execution_count": 64,
   "metadata": {},
   "outputs": [
    {
     "name": "stdout",
     "output_type": "stream",
     "text": [
      "BLEU-4 (seed24_sampling_temp_text_outputs.txt): 47.94\n",
      "BLEU-4 (seed0_sampling_temp_text_outputs.txt): 48.01\n",
      "BLEU-4 (seed64_sampling_temp_text_outputs.txt): 47.86\n",
      "BLEU-4 (seed42_sampling_temp_text_outputs.txt): 47.9\n",
      "BLEU-4 (seed100_sampling_temp_text_outputs.txt): 47.82\n",
      "BLEU-4 (greedy_text_outputs.txt): 47.83\n",
      "BLEU-4 (beam_text_outputs.txt): 46.8\n",
      "BLEU-4 (seed42_top_k_text_outputs.txt): 42.92\n",
      "BLEU-4 (seed24_top_k_text_outputs.txt): 43.07\n",
      "BLEU-4 (seed100_top_k_text_outputs.txt): 42.99\n",
      "BLEU-4 (seed64_top_k_text_outputs.txt): 42.88\n",
      "BLEU-4 (seed0_top_k_text_outputs.txt): 43.21\n",
      "BLEU-4 (seed100_top_p_text_outputs.txt): 47.82\n",
      "BLEU-4 (seed24_top_p_text_outputs.txt): 47.79\n",
      "BLEU-4 (seed0_top_p_text_outputs.txt): 47.85\n",
      "BLEU-4 (seed64_top_p_text_outputs.txt): 47.79\n",
      "BLEU-4 (seed42_top_p_text_outputs.txt): 47.85\n",
      "BLEU-4 (seed0_sampling_text_outputs.txt): 40.6\n",
      "BLEU-4 (seed42_sampling_text_outputs.txt): 41.1\n",
      "BLEU-4 (seed64_sampling_text_outputs.txt): 40.61\n",
      "BLEU-4 (seed100_sampling_text_outputs.txt): 40.82\n",
      "BLEU-4 (seed24_sampling_text_outputs.txt): 40.85\n"
     ]
    }
   ],
   "source": [
    "for k in rq4_data_huggingface:\n",
    "    calculate_bleu4(list_gts=line_gts, list_preds=rq4_data_huggingface[k], name=k)"
   ]
  },
  {
   "cell_type": "markdown",
   "metadata": {},
   "source": [
    "#### sacrebleu"
   ]
  },
  {
   "cell_type": "code",
   "execution_count": 83,
   "metadata": {},
   "outputs": [
    {
     "name": "stdout",
     "output_type": "stream",
     "text": [
      "seed24_sampling_temp_text_outputs.txt:\n",
      "{'score': 57.02082605361834, 'counts': [84671, 66719, 55338, 46748], 'totals': [123514, 113573, 103803, 94937], 'precisions': [68.55174312223716, 58.74547647768396, 53.31059795959654, 49.241075660701306], 'bp': 1.0, 'sys_len': 123514, 'ref_len': 120660}\n",
      "\n",
      "seed0_sampling_temp_text_outputs.txt:\n",
      "{'score': 57.41570618891381, 'counts': [84877, 66918, 55536, 46923], 'totals': [123108, 113169, 103406, 94539], 'precisions': [68.94515384865322, 59.131034117116876, 53.706748157747136, 49.63348459365976], 'bp': 1.0, 'sys_len': 123108, 'ref_len': 120660}\n",
      "\n",
      "seed64_sampling_temp_text_outputs.txt:\n",
      "{'score': 56.9544266048062, 'counts': [84820, 66889, 55521, 46917], 'totals': [123942, 114002, 104231, 95368], 'precisions': [68.43523583611689, 58.673532043297485, 53.267262138903014, 49.19574700109051], 'bp': 1.0, 'sys_len': 123942, 'ref_len': 120660}\n",
      "\n",
      "seed42_sampling_temp_text_outputs.txt:\n",
      "{'score': 56.27824699336628, 'counts': [84928, 66944, 55531, 46919], 'totals': [125312, 115374, 105602, 96719], 'precisions': [67.7732379979571, 58.02347149271066, 52.58517831101684, 48.51063389819994], 'bp': 1.0, 'sys_len': 125312, 'ref_len': 120660}\n",
      "\n",
      "seed100_sampling_temp_text_outputs.txt:\n",
      "{'score': 56.57545349905122, 'counts': [84889, 66885, 55477, 46873], 'totals': [124639, 114700, 104933, 96067], 'precisions': [68.10789560250002, 58.3129904097646, 52.86897353549408, 48.79198892439651], 'bp': 1.0, 'sys_len': 124639, 'ref_len': 120660}\n",
      "\n",
      "greedy_text_outputs.txt:\n",
      "{'score': 55.730525939914834, 'counts': [85025, 67037, 55630, 47037], 'totals': [126575, 116636, 106866, 97998], 'precisions': [67.17361248271776, 57.47539353201413, 52.05584563846312, 47.997918324863775], 'bp': 1.0, 'sys_len': 126575, 'ref_len': 120660}\n",
      "\n",
      "beam_text_outputs.txt:\n",
      "{'score': 54.071525721697824, 'counts': [84189, 66601, 55452, 46977], 'totals': [129358, 119422, 109679, 100847], 'precisions': [65.08217504908858, 55.76945621409791, 50.55844783413416, 46.582446676648786], 'bp': 1.0, 'sys_len': 129358, 'ref_len': 120660}\n",
      "\n",
      "seed42_top_k_text_outputs.txt:\n",
      "{'score': 54.34491593870222, 'counts': [80814, 61920, 50583, 42194], 'totals': [117295, 107368, 97633, 88787], 'precisions': [68.89807749690951, 57.67081439535057, 51.80932676451609, 47.522722921148365], 'bp': 0.9717192536971883, 'sys_len': 117295, 'ref_len': 120660}\n",
      "\n",
      "seed24_top_k_text_outputs.txt:\n",
      "{'score': 54.108058147110164, 'counts': [80552, 61715, 50374, 41952], 'totals': [117503, 107585, 97845, 88995], 'precisions': [68.55314332400023, 57.36394478784217, 51.48346875159692, 47.1397269509523], 'bp': 0.9734903186292374, 'sys_len': 117503, 'ref_len': 120660}\n",
      "\n",
      "seed100_top_k_text_outputs.txt:\n",
      "{'score': 54.007367540423836, 'counts': [80183, 61506, 50257, 41929], 'totals': [116568, 106650, 96926, 88092], 'precisions': [68.7864594056688, 57.67088607594937, 51.85089656026247, 47.59683058620533], 'bp': 0.9655050239607339, 'sys_len': 116568, 'ref_len': 120660}\n",
      "\n",
      "seed64_top_k_text_outputs.txt:\n",
      "{'score': 54.28628476571186, 'counts': [80946, 62006, 50604, 42172], 'totals': [118880, 108960, 99231, 90374], 'precisions': [68.09051144010768, 56.90712187958884, 50.99616047404541, 46.66386350056432], 'bp': 0.9851384571050357, 'sys_len': 118880, 'ref_len': 120660}\n",
      "\n",
      "seed0_top_k_text_outputs.txt:\n",
      "{'score': 54.65017368235776, 'counts': [81387, 62408, 51026, 42579], 'totals': [119753, 109828, 100073, 91189], 'precisions': [67.96238925120873, 56.82339658374914, 50.9887781919199, 46.693131847042956], 'bp': 0.9924546868880095, 'sys_len': 119753, 'ref_len': 120660}\n",
      "\n",
      "seed100_top_p_text_outputs.txt:\n",
      "{'score': 55.61441179843162, 'counts': [84998, 67025, 55625, 47030], 'totals': [126786, 116847, 107076, 98211], 'precisions': [67.04052497909863, 57.361335763862144, 51.94908289439277, 47.88669293663643], 'bp': 1.0, 'sys_len': 126786, 'ref_len': 120660}\n",
      "\n",
      "seed24_top_p_text_outputs.txt:\n",
      "{'score': 55.646150413017004, 'counts': [84994, 66995, 55596, 47000], 'totals': [126678, 116739, 106967, 98099], 'precisions': [67.09452312161544, 57.38870471736095, 51.97490814924229, 47.910784003914415], 'bp': 1.0, 'sys_len': 126678, 'ref_len': 120660}\n",
      "\n",
      "seed0_top_p_text_outputs.txt:\n",
      "{'score': 55.61312499433826, 'counts': [85051, 67065, 55664, 47061], 'totals': [126862, 116923, 107151, 98282], 'precisions': [67.04214027841276, 57.35826141990883, 51.94911853365811, 47.88364095154759], 'bp': 1.0, 'sys_len': 126862, 'ref_len': 120660}\n",
      "\n",
      "seed64_top_p_text_outputs.txt:\n",
      "{'score': 55.63658577456104, 'counts': [85007, 66999, 55594, 46998], 'totals': [126700, 116761, 106990, 98123], 'precisions': [67.09313338595106, 57.38131739193738, 51.961865594915416, 47.897027200554405], 'bp': 1.0, 'sys_len': 126700, 'ref_len': 120660}\n",
      "\n",
      "seed42_top_p_text_outputs.txt:\n",
      "{'score': 55.79180132407485, 'counts': [84996, 67013, 55621, 47024], 'totals': [126421, 116482, 106712, 97846], 'precisions': [67.2325009294342, 57.530777287477896, 52.12253542244546, 48.059195061627456], 'bp': 1.0, 'sys_len': 126421, 'ref_len': 120660}\n",
      "\n",
      "seed0_sampling_text_outputs.txt:\n",
      "{'score': 51.69878489087894, 'counts': [79214, 59713, 48464, 40178], 'totals': [121619, 111695, 101964, 93084], 'precisions': [65.13291508728076, 53.46076368682573, 47.530500961123536, 43.16316445361179], 'bp': 1.0, 'sys_len': 121619, 'ref_len': 120660}\n",
      "\n",
      "seed42_sampling_text_outputs.txt:\n",
      "{'score': 52.65085812952214, 'counts': [79811, 60476, 49199, 40910], 'totals': [121102, 111180, 101442, 92558], 'precisions': [65.90394873742795, 54.394675301313185, 48.49963525955719, 44.199312863285726], 'bp': 1.0, 'sys_len': 121102, 'ref_len': 120660}\n",
      "\n",
      "seed64_sampling_text_outputs.txt:\n",
      "{'score': 51.9340919621649, 'counts': [78657, 59300, 48117, 39963], 'totals': [118865, 108937, 99206, 90352], 'precisions': [66.17338998022967, 54.4351322323912, 48.50210672741568, 44.23034354524526], 'bp': 0.9850122856099276, 'sys_len': 118865, 'ref_len': 120660}\n",
      "\n",
      "seed100_sampling_text_outputs.txt:\n",
      "{'score': 52.06617260126111, 'counts': [79212, 59901, 48634, 40355], 'totals': [121169, 111238, 101498, 92627], 'precisions': [65.37315650042503, 53.849403980654095, 47.91621509783444, 43.567210424606216], 'bp': 1.0, 'sys_len': 121169, 'ref_len': 120660}\n",
      "\n",
      "seed24_sampling_text_outputs.txt:\n",
      "{'score': 52.23445689044188, 'counts': [79138, 59750, 48512, 40286], 'totals': [120194, 110279, 100555, 91703], 'precisions': [65.84188894620364, 54.180759709464176, 48.24424444333947, 43.93095100487443], 'bp': 0.9961304407034824, 'sys_len': 120194, 'ref_len': 120660}\n",
      "\n"
     ]
    }
   ],
   "source": [
    "for k in rq4_data_huggingface:\n",
    "    print(\"{}:\\n{}\\n\".format(k, sacrebleu.compute(predictions=rq4_data_huggingface[k], references=line_gts)))"
   ]
  },
  {
   "cell_type": "markdown",
   "metadata": {},
   "source": [
    "#### METEOR"
   ]
  },
  {
   "cell_type": "code",
   "execution_count": 85,
   "metadata": {},
   "outputs": [
    {
     "name": "stdout",
     "output_type": "stream",
     "text": [
      "seed24_sampling_temp_text_outputs.txt:\n",
      "{'meteor': 0.42251977517908956}\n",
      "\n",
      "seed0_sampling_temp_text_outputs.txt:\n",
      "{'meteor': 0.42309264616758857}\n",
      "\n",
      "seed64_sampling_temp_text_outputs.txt:\n",
      "{'meteor': 0.42306923460266327}\n",
      "\n",
      "seed42_sampling_temp_text_outputs.txt:\n",
      "{'meteor': 0.42375130731202654}\n",
      "\n",
      "seed100_sampling_temp_text_outputs.txt:\n",
      "{'meteor': 0.4229466624507797}\n",
      "\n",
      "greedy_text_outputs.txt:\n",
      "{'meteor': 0.4234645781052286}\n",
      "\n",
      "beam_text_outputs.txt:\n",
      "{'meteor': 0.42035802163724184}\n",
      "\n",
      "seed42_top_k_text_outputs.txt:\n",
      "{'meteor': 0.401117735299427}\n",
      "\n",
      "seed24_top_k_text_outputs.txt:\n",
      "{'meteor': 0.40140189960242334}\n",
      "\n",
      "seed100_top_k_text_outputs.txt:\n",
      "{'meteor': 0.400073195671563}\n",
      "\n",
      "seed64_top_k_text_outputs.txt:\n",
      "{'meteor': 0.40214375459908697}\n",
      "\n",
      "seed0_top_k_text_outputs.txt:\n",
      "{'meteor': 0.40276655266698924}\n",
      "\n",
      "seed100_top_p_text_outputs.txt:\n",
      "{'meteor': 0.4233734664427496}\n",
      "\n",
      "seed24_top_p_text_outputs.txt:\n",
      "{'meteor': 0.4233728752657872}\n",
      "\n",
      "seed0_top_p_text_outputs.txt:\n",
      "{'meteor': 0.4236967625799828}\n",
      "\n",
      "seed64_top_p_text_outputs.txt:\n",
      "{'meteor': 0.4233347836481582}\n",
      "\n",
      "seed42_top_p_text_outputs.txt:\n",
      "{'meteor': 0.4234788386844916}\n",
      "\n",
      "seed0_sampling_text_outputs.txt:\n",
      "{'meteor': 0.39249911357978917}\n",
      "\n",
      "seed42_sampling_text_outputs.txt:\n",
      "{'meteor': 0.39453957075540513}\n",
      "\n",
      "seed64_sampling_text_outputs.txt:\n",
      "{'meteor': 0.3923637274009849}\n",
      "\n",
      "seed100_sampling_text_outputs.txt:\n",
      "{'meteor': 0.39388748796979145}\n",
      "\n",
      "seed24_sampling_text_outputs.txt:\n",
      "{'meteor': 0.3928655144637102}\n",
      "\n"
     ]
    }
   ],
   "source": [
    "for k in rq4_data_huggingface:\n",
    "    print(\"{}:\\n{}\\n\".format(k, meteor.compute(predictions=rq4_data_huggingface[k], references=line_gts)))"
   ]
  },
  {
   "cell_type": "markdown",
   "metadata": {},
   "source": [
    "#### ROUGE"
   ]
  },
  {
   "cell_type": "code",
   "execution_count": 84,
   "metadata": {},
   "outputs": [
    {
     "name": "stdout",
     "output_type": "stream",
     "text": [
      "seed24_sampling_temp_text_outputs.txt:\n",
      "{'rouge1': AggregateScore(low=Score(precision=0.6266838183561141, recall=0.6123973242549747, fmeasure=0.5997627575896567), mid=Score(precision=0.6352538960175259, recall=0.6204336270888423, fmeasure=0.608076675984591), high=Score(precision=0.6431095271454342, recall=0.6278617731161923, fmeasure=0.615114485304504)), 'rouge2': AggregateScore(low=Score(precision=0.4436233116568019, recall=0.43717283428249826, fmeasure=0.4259692751669782), mid=Score(precision=0.4525724240020952, recall=0.4460844392982416, fmeasure=0.4346964902808996), high=Score(precision=0.4606364464620664, recall=0.45445239294850476, fmeasure=0.4424737525073032)), 'rougeL': AggregateScore(low=Score(precision=0.6236068568656876, recall=0.6089594636491579, fmeasure=0.5967274066190916), mid=Score(precision=0.6313592737027371, recall=0.6165963715072986, fmeasure=0.6043193611506854), high=Score(precision=0.6400217878500801, recall=0.6249984546384916, fmeasure=0.6126137593926834)), 'rougeLsum': AggregateScore(low=Score(precision=0.6231132146203046, recall=0.6087442263811176, fmeasure=0.5966404770810665), mid=Score(precision=0.6318462850761712, recall=0.617213148056065, fmeasure=0.6048515303320146), high=Score(precision=0.639557136012074, recall=0.6247251565053685, fmeasure=0.6124272963666355))}\n",
      "\n",
      "seed0_sampling_temp_text_outputs.txt:\n",
      "{'rouge1': AggregateScore(low=Score(precision=0.6276731420704763, recall=0.6137718746823051, fmeasure=0.6008335146357036), mid=Score(precision=0.6359704329896854, recall=0.6218339820253631, fmeasure=0.6089985366204266), high=Score(precision=0.6434400701531853, recall=0.6289130362401587, fmeasure=0.6160072937065842)), 'rouge2': AggregateScore(low=Score(precision=0.4454807684254356, recall=0.43814519061183316, fmeasure=0.4275228673442345), mid=Score(precision=0.45432965202726594, recall=0.44691052328298564, fmeasure=0.4360187939229135), high=Score(precision=0.46275559771751507, recall=0.45490578104009793, fmeasure=0.44413869281528395)), 'rougeL': AggregateScore(low=Score(precision=0.6241528960089414, recall=0.6099619171336298, fmeasure=0.5973397515662575), mid=Score(precision=0.6319793971888285, recall=0.6178087214777745, fmeasure=0.6051050353199309), high=Score(precision=0.6400567768776825, recall=0.6256519576999857, fmeasure=0.6130675429562571)), 'rougeLsum': AggregateScore(low=Score(precision=0.6233377702606725, recall=0.6100692131915376, fmeasure=0.5975513623285312), mid=Score(precision=0.6321956629575014, recall=0.6182962967103744, fmeasure=0.6056412185148902), high=Score(precision=0.6399285719556744, recall=0.6262104867415348, fmeasure=0.6132324725861487))}\n",
      "\n",
      "seed64_sampling_temp_text_outputs.txt:\n",
      "{'rouge1': AggregateScore(low=Score(precision=0.6275030214202794, recall=0.6139286582516519, fmeasure=0.6004366771625679), mid=Score(precision=0.6358975885631215, recall=0.621538785468438, fmeasure=0.608396432438028), high=Score(precision=0.6433445057807955, recall=0.6285536468345363, fmeasure=0.6154206119451635)), 'rouge2': AggregateScore(low=Score(precision=0.4438134506856543, recall=0.4373852028472146, fmeasure=0.42588308665502556), mid=Score(precision=0.4522236887019254, recall=0.4460787122099751, fmeasure=0.4343476924702711), high=Score(precision=0.4603946859792617, recall=0.45438534868290076, fmeasure=0.442080714312727)), 'rougeL': AggregateScore(low=Score(precision=0.6241263949980032, recall=0.6096932881818936, fmeasure=0.5970734381112061), mid=Score(precision=0.6318625471487938, recall=0.6176867623094018, fmeasure=0.6045911991507741), high=Score(precision=0.6401128867523148, recall=0.6259003154672715, fmeasure=0.6127833475759719)), 'rougeLsum': AggregateScore(low=Score(precision=0.6234470334433349, recall=0.6098398110579236, fmeasure=0.5968924733464828), mid=Score(precision=0.6321947317631555, recall=0.6181723423800533, fmeasure=0.6050994244129686), high=Score(precision=0.6395792516962315, recall=0.6258631651522109, fmeasure=0.6123318864581248))}\n",
      "\n",
      "seed42_sampling_temp_text_outputs.txt:\n",
      "{'rouge1': AggregateScore(low=Score(precision=0.6276294258108864, recall=0.6148373614596523, fmeasure=0.6010203188401366), mid=Score(precision=0.6360598794707301, recall=0.6230010283599983, fmeasure=0.6091461049590546), high=Score(precision=0.6435986173306057, recall=0.6301982164902173, fmeasure=0.6161726406307629)), 'rouge2': AggregateScore(low=Score(precision=0.4455684659295119, recall=0.43953245381773925, fmeasure=0.427496216779515), mid=Score(precision=0.4539518758676146, recall=0.44799724247148875, fmeasure=0.435869810603738), high=Score(precision=0.4618807496259814, recall=0.45621306096468583, fmeasure=0.44346389250730067)), 'rougeL': AggregateScore(low=Score(precision=0.6244679100509976, recall=0.6113208922210684, fmeasure=0.5979240332160091), mid=Score(precision=0.6324098508142232, recall=0.6189953354779474, fmeasure=0.6052983826419217), high=Score(precision=0.6405863632269179, recall=0.6272075414918089, fmeasure=0.6131019421020337)), 'rougeLsum': AggregateScore(low=Score(precision=0.6238286560925087, recall=0.6111819040850364, fmeasure=0.5978729727049303), mid=Score(precision=0.6325270162395422, recall=0.6195141104785833, fmeasure=0.6058930433914931), high=Score(precision=0.6402727313374914, recall=0.6271058078777091, fmeasure=0.6131222928952886))}\n",
      "\n",
      "seed100_sampling_temp_text_outputs.txt:\n",
      "{'rouge1': AggregateScore(low=Score(precision=0.6274662214392989, recall=0.6141228479545874, fmeasure=0.6002240924635935), mid=Score(precision=0.6356433730214901, recall=0.6217326197646162, fmeasure=0.6082275897800955), high=Score(precision=0.6435942106430422, recall=0.6291028791606911, fmeasure=0.6157982873467563)), 'rouge2': AggregateScore(low=Score(precision=0.4439327562077606, recall=0.437686143346059, fmeasure=0.4258712465821409), mid=Score(precision=0.4525165401908963, recall=0.44631491408358104, fmeasure=0.4344681529554534), high=Score(precision=0.4605440628611583, recall=0.45469294578634445, fmeasure=0.4424647066485296)), 'rougeL': AggregateScore(low=Score(precision=0.6240188365754672, recall=0.6102142587772252, fmeasure=0.597087986631279), mid=Score(precision=0.6317762831787719, recall=0.6180200914470889, fmeasure=0.6047326049149817), high=Score(precision=0.6399456606179665, recall=0.6259968543177965, fmeasure=0.6126832997348394)), 'rougeLsum': AggregateScore(low=Score(precision=0.6235873461885909, recall=0.6104300261289254, fmeasure=0.5972695246934628), mid=Score(precision=0.632212149667156, recall=0.6183840694331935, fmeasure=0.6050913639052791), high=Score(precision=0.6396310047457868, recall=0.6260177915660431, fmeasure=0.612475901339942))}\n",
      "\n",
      "greedy_text_outputs.txt:\n",
      "{'rouge1': AggregateScore(low=Score(precision=0.6265068072720689, recall=0.6138264711773066, fmeasure=0.6001696510259316), mid=Score(precision=0.6349956837463462, recall=0.622006049062362, fmeasure=0.6083343806596766), high=Score(precision=0.6427361650804716, recall=0.6293505527176404, fmeasure=0.6156564086791262)), 'rouge2': AggregateScore(low=Score(precision=0.44431458228454906, recall=0.43854916275288575, fmeasure=0.4267602691836667), mid=Score(precision=0.45289731259989463, recall=0.4472515438409152, fmeasure=0.4352705772816716), high=Score(precision=0.461129369483174, recall=0.45556785441630276, fmeasure=0.44322909367989083)), 'rougeL': AggregateScore(low=Score(precision=0.6235925329409098, recall=0.6103124236197952, fmeasure=0.5974510382107643), mid=Score(precision=0.6312680875518881, recall=0.6182036815615131, fmeasure=0.6047358637849034), high=Score(precision=0.6395270614679524, recall=0.6262260097862092, fmeasure=0.6127426827065362)), 'rougeLsum': AggregateScore(low=Score(precision=0.6225143567176151, recall=0.6101181850255294, fmeasure=0.596845898812714), mid=Score(precision=0.6314416596813834, recall=0.6186954490330985, fmeasure=0.6050859447737171), high=Score(precision=0.6388742256068004, recall=0.6266316342994418, fmeasure=0.6125358312528769))}\n",
      "\n",
      "beam_text_outputs.txt:\n",
      "{'rouge1': AggregateScore(low=Score(precision=0.6199974261890179, recall=0.6076946091134008, fmeasure=0.591821255627827), mid=Score(precision=0.6287491374639829, recall=0.6161483454949717, fmeasure=0.5998314271974726), high=Score(precision=0.636118438831471, recall=0.6232779067633243, fmeasure=0.6070267814094471)), 'rouge2': AggregateScore(low=Score(precision=0.4398407122733978, recall=0.4368545405743557, fmeasure=0.4222365940298967), mid=Score(precision=0.448895911498863, recall=0.4453750042767292, fmeasure=0.43072806729276536), high=Score(precision=0.4571385389041468, recall=0.4533292707806214, fmeasure=0.4388823561314581)), 'rougeL': AggregateScore(low=Score(precision=0.6176816971982632, recall=0.6048304757412424, fmeasure=0.5886674752563522), mid=Score(precision=0.6252446918766781, recall=0.6122366522023599, fmeasure=0.5962219181138033), high=Score(precision=0.6329698981094857, recall=0.62010474992473, fmeasure=0.6039593192416908)), 'rougeLsum': AggregateScore(low=Score(precision=0.6167504740396632, recall=0.6045888852669333, fmeasure=0.588116673005866), mid=Score(precision=0.6253049226442869, recall=0.6126709464673019, fmeasure=0.5965653121314666), high=Score(precision=0.6329727454173756, recall=0.6207282827442899, fmeasure=0.603970781337033))}\n",
      "\n",
      "seed42_top_k_text_outputs.txt:\n",
      "{'rouge1': AggregateScore(low=Score(precision=0.5846900012389245, recall=0.5785187949109303, fmeasure=0.5593645395196486), mid=Score(precision=0.5929050701660296, recall=0.5863758635625596, fmeasure=0.5672801030804084), high=Score(precision=0.600762638384967, recall=0.5936492649979926, fmeasure=0.5743812136069341)), 'rouge2': AggregateScore(low=Score(precision=0.40102509481823545, recall=0.39856510859355604, fmeasure=0.38388826010858546), mid=Score(precision=0.4095258012416395, recall=0.40693741375105313, fmeasure=0.3918526685247158), high=Score(precision=0.4179895789708276, recall=0.4149677345789115, fmeasure=0.3996054659635353)), 'rougeL': AggregateScore(low=Score(precision=0.5803865004793857, recall=0.5743126712332114, fmeasure=0.5551426387121923), mid=Score(precision=0.5881186842655319, recall=0.5819411813319562, fmeasure=0.5627811030257165), high=Score(precision=0.5963125977610615, recall=0.5899988469916716, fmeasure=0.5704449144716802)), 'rougeLsum': AggregateScore(low=Score(precision=0.5803218324619887, recall=0.5741793429804752, fmeasure=0.5552264247240853), mid=Score(precision=0.588481142021371, recall=0.582097813331011, fmeasure=0.5630262504023813), high=Score(precision=0.5961667241751567, recall=0.5898369881161584, fmeasure=0.5705380463860465))}\n",
      "\n",
      "seed24_top_k_text_outputs.txt:\n",
      "{'rouge1': AggregateScore(low=Score(precision=0.5845846282368199, recall=0.579165493951689, fmeasure=0.559950269718528), mid=Score(precision=0.5928232357183267, recall=0.5869997913523437, fmeasure=0.5676052340191431), high=Score(precision=0.6003026690450558, recall=0.5944369060738388, fmeasure=0.5745415475729845)), 'rouge2': AggregateScore(low=Score(precision=0.3985905904902102, recall=0.39885074852985847, fmeasure=0.3824904634733699), mid=Score(precision=0.4071423676763303, recall=0.40721518375267063, fmeasure=0.39090192026747617), high=Score(precision=0.41565054938724344, recall=0.4151780506228304, fmeasure=0.3988505404788179)), 'rougeL': AggregateScore(low=Score(precision=0.5814419679426427, recall=0.5755268774643045, fmeasure=0.5567716518474781), mid=Score(precision=0.5889609324876711, recall=0.5831258865344069, fmeasure=0.5638298726896038), high=Score(precision=0.5969217058952893, recall=0.5912547433603624, fmeasure=0.5714022056878835)), 'rougeLsum': AggregateScore(low=Score(precision=0.5810589871403533, recall=0.5754043921488184, fmeasure=0.5563044951087791), mid=Score(precision=0.5889895537287311, recall=0.5834738423901382, fmeasure=0.5641640350148145), high=Score(precision=0.5966355939861725, recall=0.5913344127386745, fmeasure=0.5716944364954789))}\n",
      "\n",
      "seed100_top_k_text_outputs.txt:\n",
      "{'rouge1': AggregateScore(low=Score(precision=0.586216289434254, recall=0.5774028677164573, fmeasure=0.5595899158352438), mid=Score(precision=0.5941681487424617, recall=0.5854390623626653, fmeasure=0.5677250262079785), high=Score(precision=0.6022007442574364, recall=0.5934409431052394, fmeasure=0.5753411581016147)), 'rouge2': AggregateScore(low=Score(precision=0.40086531486868376, recall=0.39735071156249374, fmeasure=0.38358602802041586), mid=Score(precision=0.4093515087075861, recall=0.4056187059750356, fmeasure=0.3916875167666534), high=Score(precision=0.41734638556205866, recall=0.4140210171005801, fmeasure=0.39959221967220604)), 'rougeL': AggregateScore(low=Score(precision=0.5822144911091317, recall=0.5734696939483844, fmeasure=0.5562916806394459), mid=Score(precision=0.5898748447305749, recall=0.5810802338218362, fmeasure=0.5635654639391943), high=Score(precision=0.5981403909675594, recall=0.5890875769226319, fmeasure=0.5712825822198271)), 'rougeLsum': AggregateScore(low=Score(precision=0.5819121001908834, recall=0.5737454029743668, fmeasure=0.5563250360402129), mid=Score(precision=0.5901465422849196, recall=0.5812429885047303, fmeasure=0.5637930597814393), high=Score(precision=0.597995199949031, recall=0.5889223787162161, fmeasure=0.5718531648827199))}\n",
      "\n",
      "seed64_top_k_text_outputs.txt:\n",
      "{'rouge1': AggregateScore(low=Score(precision=0.5872253639473254, recall=0.5819283777345747, fmeasure=0.5617993958843133), mid=Score(precision=0.5950251812850162, recall=0.59003937478196, fmeasure=0.5695419997589127), high=Score(precision=0.6026879228377608, recall=0.5973664382163348, fmeasure=0.577291902638095)), 'rouge2': AggregateScore(low=Score(precision=0.40407527010417926, recall=0.40152405432842114, fmeasure=0.3863597087619346), mid=Score(precision=0.4125062632706339, recall=0.40974989788640537, fmeasure=0.3947362985533327), high=Score(precision=0.4210242314250625, recall=0.41815354834751345, fmeasure=0.4028982108659172)), 'rougeL': AggregateScore(low=Score(precision=0.5834705091832639, recall=0.5776449738663313, fmeasure=0.5581734867055579), mid=Score(precision=0.5911143026442609, recall=0.5855747042098635, fmeasure=0.565507927979247), high=Score(precision=0.5993182501718723, recall=0.5938451463681341, fmeasure=0.5737993423461583)), 'rougeLsum': AggregateScore(low=Score(precision=0.5827104549654167, recall=0.5776233664528994, fmeasure=0.5582159868223483), mid=Score(precision=0.5910597237356033, recall=0.5857777255660479, fmeasure=0.5656180411401054), high=Score(precision=0.599325723397791, recall=0.5937126723092773, fmeasure=0.5735916158699389))}\n",
      "\n",
      "seed0_top_k_text_outputs.txt:\n",
      "{'rouge1': AggregateScore(low=Score(precision=0.5849347235144107, recall=0.5831117832319574, fmeasure=0.5617318178728067), mid=Score(precision=0.5931750199136812, recall=0.5911321039316566, fmeasure=0.5696378645723749), high=Score(precision=0.6009466700441134, recall=0.598859334329556, fmeasure=0.576929127073574)), 'rouge2': AggregateScore(low=Score(precision=0.4010716522294749, recall=0.4022146108926611, fmeasure=0.38566283194610546), mid=Score(precision=0.41021516296984406, recall=0.4106818837661669, fmeasure=0.3942580378257734), high=Score(precision=0.41822120788376144, recall=0.41834898379955265, fmeasure=0.40185448096504717)), 'rougeL': AggregateScore(low=Score(precision=0.580637364752024, recall=0.579079317042705, fmeasure=0.5576456899391137), mid=Score(precision=0.5891304095573364, recall=0.5868944720447737, fmeasure=0.5657186381948728), high=Score(precision=0.5966063263099375, recall=0.5948856324734024, fmeasure=0.5730007269560857)), 'rougeLsum': AggregateScore(low=Score(precision=0.5812258455486119, recall=0.5792022197804669, fmeasure=0.5582660973134738), mid=Score(precision=0.589347077584085, recall=0.5870368850789827, fmeasure=0.5658859562301604), high=Score(precision=0.5970853119558032, recall=0.5949306839067277, fmeasure=0.5735838771241661))}\n",
      "\n",
      "seed100_top_p_text_outputs.txt:\n",
      "{'rouge1': AggregateScore(low=Score(precision=0.626307379828549, recall=0.6138489516903695, fmeasure=0.6000307287396727), mid=Score(precision=0.6347777329234883, recall=0.6218698654046677, fmeasure=0.6081743014624303), high=Score(precision=0.6426259323855841, recall=0.6290944052809944, fmeasure=0.6154641154306628)), 'rouge2': AggregateScore(low=Score(precision=0.44413158670821035, recall=0.43840176691955246, fmeasure=0.42646571811546286), mid=Score(precision=0.45266144187836743, recall=0.4471640810746307, fmeasure=0.435121814312322), high=Score(precision=0.4609187078118747, recall=0.45542227150342546, fmeasure=0.44309249305847626)), 'rougeL': AggregateScore(low=Score(precision=0.6232893189514411, recall=0.6100893068713393, fmeasure=0.5973899048143978), mid=Score(precision=0.6311216610330745, recall=0.6180504264950397, fmeasure=0.604538196360671), high=Score(precision=0.6392569388292354, recall=0.6262227301091451, fmeasure=0.612691453961172)), 'rougeLsum': AggregateScore(low=Score(precision=0.622491387147041, recall=0.6099916540811665, fmeasure=0.596551282274209), mid=Score(precision=0.6312480061583019, recall=0.6185618551356171, fmeasure=0.60494836944355), high=Score(precision=0.6388420079707496, recall=0.6264403234676954, fmeasure=0.6123571294681002))}\n",
      "\n",
      "seed24_top_p_text_outputs.txt:\n",
      "{'rouge1': AggregateScore(low=Score(precision=0.6261314142195993, recall=0.6137369365428085, fmeasure=0.5998155238891549), mid=Score(precision=0.6345744440676333, recall=0.6217904755810957, fmeasure=0.6080895766353258), high=Score(precision=0.6424196960352292, recall=0.62909104132918, fmeasure=0.6153715854189313)), 'rouge2': AggregateScore(low=Score(precision=0.44413781826721027, recall=0.4382519357188983, fmeasure=0.42628664488094875), mid=Score(precision=0.4526320914982029, recall=0.44702901334528916, fmeasure=0.4351009222349337), high=Score(precision=0.4609429560143826, recall=0.45545348096683785, fmeasure=0.44283277037941055)), 'rougeL': AggregateScore(low=Score(precision=0.6233315999922534, recall=0.6101046675236506, fmeasure=0.5971676353148622), mid=Score(precision=0.6308970724257306, recall=0.6179631553473957, fmeasure=0.6044630361157254), high=Score(precision=0.6389680644821296, recall=0.6260380936273398, fmeasure=0.6123859699359976)), 'rougeLsum': AggregateScore(low=Score(precision=0.6221399356646566, recall=0.6098222555554308, fmeasure=0.5964540574867438), mid=Score(precision=0.6310824099633324, recall=0.6184698754374838, fmeasure=0.6048506640752376), high=Score(precision=0.6385892153609989, recall=0.6263021697104701, fmeasure=0.6121395502562067))}\n",
      "\n",
      "seed0_top_p_text_outputs.txt:\n",
      "{'rouge1': AggregateScore(low=Score(precision=0.626139781871394, recall=0.6140788714970226, fmeasure=0.6001343771498225), mid=Score(precision=0.6346929590111572, recall=0.6221149321101211, fmeasure=0.6083579293264401), high=Score(precision=0.6424175749060727, recall=0.6294804400530409, fmeasure=0.6156068302217615)), 'rouge2': AggregateScore(low=Score(precision=0.44432163450060197, recall=0.4386600094865101, fmeasure=0.42681083729743385), mid=Score(precision=0.45287247243535245, recall=0.44743654910650826, fmeasure=0.4353888485399884), high=Score(precision=0.46122189674780856, recall=0.4558454539205828, fmeasure=0.44322155518807616)), 'rougeL': AggregateScore(low=Score(precision=0.6234806993520114, recall=0.6104579551481151, fmeasure=0.5974425741977739), mid=Score(precision=0.631059054930575, recall=0.6183759314505779, fmeasure=0.6047434380369008), high=Score(precision=0.6390465912272136, recall=0.6263965499771107, fmeasure=0.6127099056114916)), 'rougeLsum': AggregateScore(low=Score(precision=0.6223941899382159, recall=0.6102039577592767, fmeasure=0.5967754945198384), mid=Score(precision=0.6312507631922853, recall=0.6188375698548745, fmeasure=0.605113457299556), high=Score(precision=0.6387906801661098, recall=0.6267427788865216, fmeasure=0.6124341920290022))}\n",
      "\n",
      "seed64_top_p_text_outputs.txt:\n",
      "{'rouge1': AggregateScore(low=Score(precision=0.6264183839294766, recall=0.61372213429305, fmeasure=0.5999566805789055), mid=Score(precision=0.6347424635880096, recall=0.6218842716417072, fmeasure=0.6082784227000293), high=Score(precision=0.6424883923405516, recall=0.6291821422454066, fmeasure=0.6153469629251864)), 'rouge2': AggregateScore(low=Score(precision=0.4441041927983728, recall=0.43832891202256097, fmeasure=0.42639041184518517), mid=Score(precision=0.4526306506665328, recall=0.4470627347830995, fmeasure=0.4350956625557194), high=Score(precision=0.46094022671455415, recall=0.4554374651597319, fmeasure=0.44301195429191476)), 'rougeL': AggregateScore(low=Score(precision=0.6232990882186247, recall=0.6101323187894996, fmeasure=0.5972987747302518), mid=Score(precision=0.6310502710916821, recall=0.6181214840269362, fmeasure=0.6046360194807829), high=Score(precision=0.6392391088910945, recall=0.6262642750617692, fmeasure=0.6125583101294042)), 'rougeLsum': AggregateScore(low=Score(precision=0.6223820340388824, recall=0.6099184934735625, fmeasure=0.5966200622408755), mid=Score(precision=0.6312856838370079, recall=0.6186032765448672, fmeasure=0.6049658617594935), high=Score(precision=0.6388125199060936, recall=0.6264715431638955, fmeasure=0.6123375090363073))}\n",
      "\n",
      "seed42_top_p_text_outputs.txt:\n",
      "{'rouge1': AggregateScore(low=Score(precision=0.6263538672543505, recall=0.6138194212087427, fmeasure=0.600094152277231), mid=Score(precision=0.6347887741380602, recall=0.621852685398714, fmeasure=0.6082756636323587), high=Score(precision=0.6424802640892726, recall=0.6292092478576568, fmeasure=0.6154139210134901)), 'rouge2': AggregateScore(low=Score(precision=0.4444277813516976, recall=0.43857366786175533, fmeasure=0.42677137438790036), mid=Score(precision=0.45290500973888786, recall=0.44725942932216056, fmeasure=0.43536979814883947), high=Score(precision=0.4612532149595243, recall=0.4555865328432777, fmeasure=0.44313371242748617)), 'rougeL': AggregateScore(low=Score(precision=0.6234374227829015, recall=0.6102499195427494, fmeasure=0.5973833616745039), mid=Score(precision=0.6310902369777455, recall=0.6180586546621859, fmeasure=0.6046496029000228), high=Score(precision=0.6390476949817794, recall=0.6261712225027973, fmeasure=0.6124956771734473)), 'rougeLsum': AggregateScore(low=Score(precision=0.6223700190302367, recall=0.6098809649774182, fmeasure=0.5967097546266793), mid=Score(precision=0.6312240257112868, recall=0.6185713274395754, fmeasure=0.6049867422410342), high=Score(precision=0.6389517059214292, recall=0.6264362542969363, fmeasure=0.6123560111096064))}\n",
      "\n",
      "seed0_sampling_text_outputs.txt:\n",
      "{'rouge1': AggregateScore(low=Score(precision=0.5590832720953569, recall=0.5583222021302484, fmeasure=0.5360665484235488), mid=Score(precision=0.5671080750877389, recall=0.5661643145334727, fmeasure=0.5439131750399089), high=Score(precision=0.5744319071280083, recall=0.573928329159033, fmeasure=0.5512255555102525)), 'rouge2': AggregateScore(low=Score(precision=0.38013109129567435, recall=0.38094365897674937, fmeasure=0.36513303979312917), mid=Score(precision=0.3884347704837018, recall=0.3889814194021727, fmeasure=0.3730244718926833), high=Score(precision=0.3961019533079754, recall=0.39684216002354955, fmeasure=0.3803954189890131)), 'rougeL': AggregateScore(low=Score(precision=0.5549039246709533, recall=0.5542009836099503, fmeasure=0.5325099252510849), mid=Score(precision=0.5630105884207435, recall=0.5620661493290086, fmeasure=0.5399114617553683), high=Score(precision=0.5708735296095132, recall=0.569945998768586, fmeasure=0.547431974926812)), 'rougeLsum': AggregateScore(low=Score(precision=0.5547743335635001, recall=0.5542225768280983, fmeasure=0.5323963618337103), mid=Score(precision=0.5629567861719986, recall=0.5622937919826505, fmeasure=0.540239979527213), high=Score(precision=0.5706381201799678, recall=0.5699561364180024, fmeasure=0.5475191355479152))}\n",
      "\n",
      "seed42_sampling_text_outputs.txt:\n",
      "{'rouge1': AggregateScore(low=Score(precision=0.5613463256589166, recall=0.5626988396877493, fmeasure=0.5394888367992192), mid=Score(precision=0.5698448097446268, recall=0.570753698055732, fmeasure=0.5477366693339507), high=Score(precision=0.5776773978976336, recall=0.578776487189181, fmeasure=0.5552212782835392)), 'rouge2': AggregateScore(low=Score(precision=0.3788031333635535, recall=0.3833730664875897, fmeasure=0.3658186031241088), mid=Score(precision=0.38824393853012085, recall=0.3919812165948341, fmeasure=0.374842070102423), high=Score(precision=0.39570401367281266, recall=0.3998759691699894, fmeasure=0.3822084745764151)), 'rougeL': AggregateScore(low=Score(precision=0.5580907818887075, recall=0.5586506389074104, fmeasure=0.5361153436222064), mid=Score(precision=0.566181172808573, recall=0.5667237945132728, fmeasure=0.54393808116237), high=Score(precision=0.5739691133978212, recall=0.575259668903292, fmeasure=0.5519344812566394)), 'rougeLsum': AggregateScore(low=Score(precision=0.5576658333153167, recall=0.5586511599761265, fmeasure=0.5360781503536268), mid=Score(precision=0.5660429622767554, recall=0.566937077957882, fmeasure=0.54414371226408), high=Score(precision=0.5739013984730033, recall=0.5743298134305478, fmeasure=0.5513314327102123))}\n",
      "\n",
      "seed64_sampling_text_outputs.txt:\n",
      "{'rouge1': AggregateScore(low=Score(precision=0.5574237496753682, recall=0.5590078994947669, fmeasure=0.5360702824888787), mid=Score(precision=0.5657674053314337, recall=0.5670037380995556, fmeasure=0.5440590539823964), high=Score(precision=0.5736121468862294, recall=0.5753274454708607, fmeasure=0.5517605870647888)), 'rouge2': AggregateScore(low=Score(precision=0.3768801836611578, recall=0.379589877443674, fmeasure=0.3628267986643638), mid=Score(precision=0.3852559930734531, recall=0.3878505269139886, fmeasure=0.3709142218983283), high=Score(precision=0.3929859275794184, recall=0.39631459252316115, fmeasure=0.3788018111814601)), 'rougeL': AggregateScore(low=Score(precision=0.5536210613070928, recall=0.5546855377015767, fmeasure=0.5319360204320588), mid=Score(precision=0.5617298424633206, recall=0.5625460369462925, fmeasure=0.5398988687323347), high=Score(precision=0.5698933086035728, recall=0.5701244778324435, fmeasure=0.5476733333937455)), 'rougeLsum': AggregateScore(low=Score(precision=0.5530405078085037, recall=0.5542793367756617, fmeasure=0.5317542915833866), mid=Score(precision=0.5620144630122169, recall=0.5627378988137799, fmeasure=0.5403823683712475), high=Score(precision=0.5698750793050247, recall=0.5705019410688084, fmeasure=0.5477060878652444))}\n",
      "\n",
      "seed100_sampling_text_outputs.txt:\n",
      "{'rouge1': AggregateScore(low=Score(precision=0.5618850299094112, recall=0.5598678731100767, fmeasure=0.5381009145323188), mid=Score(precision=0.5694470346214358, recall=0.5679272433409355, fmeasure=0.5455552229415022), high=Score(precision=0.5776733560621622, recall=0.5758490350332274, fmeasure=0.5532733891716198)), 'rouge2': AggregateScore(low=Score(precision=0.38150559052091676, recall=0.3830268733347161, fmeasure=0.36636717600218105), mid=Score(precision=0.3900535854448265, recall=0.39156640016948896, fmeasure=0.3745583795855638), high=Score(precision=0.3981157301037901, recall=0.3994347187902047, fmeasure=0.3822370147304484)), 'rougeL': AggregateScore(low=Score(precision=0.5588959868143063, recall=0.5567982413567685, fmeasure=0.5354906899160837), mid=Score(precision=0.5667033283527563, recall=0.5647324707779822, fmeasure=0.5428925565030851), high=Score(precision=0.5742946824211007, recall=0.5729512765154946, fmeasure=0.5502411521427671)), 'rougeLsum': AggregateScore(low=Score(precision=0.5584419310068962, recall=0.5567062048852994, fmeasure=0.5349684977786364), mid=Score(precision=0.5663837283936557, recall=0.5649990733976344, fmeasure=0.5429023937904174), high=Score(precision=0.574244389223547, recall=0.5729307099407827, fmeasure=0.5504367448375644))}\n",
      "\n",
      "seed24_sampling_text_outputs.txt:\n",
      "{'rouge1': AggregateScore(low=Score(precision=0.5601978790573466, recall=0.5621748581379322, fmeasure=0.5391100015103425), mid=Score(precision=0.5680926632447179, recall=0.5701184353769709, fmeasure=0.5465245817384655), high=Score(precision=0.5756710213967109, recall=0.577629845211647, fmeasure=0.5540621549842079)), 'rouge2': AggregateScore(low=Score(precision=0.3775577919763961, recall=0.3820178039757604, fmeasure=0.3645051679938686), mid=Score(precision=0.3869080917749951, recall=0.39098662903568926, fmeasure=0.3735456021045355), high=Score(precision=0.3948801655632991, recall=0.3992209817041672, fmeasure=0.3812379240347482)), 'rougeL': AggregateScore(low=Score(precision=0.5555018346704845, recall=0.5580985987004348, fmeasure=0.5344953385147357), mid=Score(precision=0.5640709970531534, recall=0.5656998535100849, fmeasure=0.5424138101124589), high=Score(precision=0.5724129093553033, recall=0.5744896227286497, fmeasure=0.5503884070293883)), 'rougeLsum': AggregateScore(low=Score(precision=0.5556862270691085, recall=0.5575934864681236, fmeasure=0.5347528461664321), mid=Score(precision=0.5641824729981846, recall=0.5662837212887374, fmeasure=0.5428472624066829), high=Score(precision=0.5722321129120013, recall=0.5739657766564379, fmeasure=0.5504779011883615))}\n",
      "\n"
     ]
    }
   ],
   "source": [
    "for k in rq4_data_huggingface:\n",
    "    print(\"{}:\\n{}\\n\".format(k, rouge.compute(predictions=rq4_data_huggingface[k], references=line_gts)))"
   ]
  },
  {
   "cell_type": "markdown",
   "metadata": {},
   "source": [
    "## UniXcoder"
   ]
  },
  {
   "cell_type": "code",
   "execution_count": 10,
   "metadata": {},
   "outputs": [],
   "source": [
    "unixcoder_mrr = load_pickle('unixcoder_mrr_preds.pkl')\n",
    "unixcoder_result = open('/paper_results/rq1/line_level/UniXcoder_predictions.txt').readlines()"
   ]
  },
  {
   "cell_type": "code",
   "execution_count": 11,
   "metadata": {},
   "outputs": [
    {
     "name": "stdout",
     "output_type": "stream",
     "text": [
      "unixcoder mrr: 45.82\n"
     ]
    }
   ],
   "source": [
    "mrr = 0\n",
    "c = 0\n",
    "for idx, preds in enumerate(unixcoder_mrr):\n",
    "    mrr_temp = 0\n",
    "    for order,pred in enumerate(preds):\n",
    "        if pred.split() == line_gts[idx][0].split() and (1/(order+1) > mrr_temp):\n",
    "            if order == 0:\n",
    "                c+=1\n",
    "            mrr_temp = 1/(order+1)\n",
    "    mrr += mrr_temp\n",
    "print('unixcoder mrr: {}'.format(round(mrr/len(line_gts)*100,2)))"
   ]
  },
  {
   "cell_type": "code",
   "execution_count": 14,
   "metadata": {},
   "outputs": [
    {
     "name": "stdout",
     "output_type": "stream",
     "text": [
      "BLEU-4 (Unixcoder): 43.31\n"
     ]
    }
   ],
   "source": [
    "calculate_bleu4(list_gts=line_gts, list_preds=unixcoder_result, name='Unixcoder')"
   ]
  },
  {
   "cell_type": "code",
   "execution_count": 17,
   "metadata": {},
   "outputs": [
    {
     "name": "stdout",
     "output_type": "stream",
     "text": [
      "Unixcoder SacreBLEU:\n",
      "{'score': 51.8678259337017, 'counts': [75103, 58834, 48483, 40639], 'totals': [94551, 84551, 74969, 66506], 'precisions': [79.43120643885311, 69.58403803621484, 64.67073056863504, 61.10576489339308], 'bp': 0.7587092171241104, 'sys_len': 94551, 'ref_len': 120660}\n",
      "\n"
     ]
    }
   ],
   "source": [
    "print(\"Unixcoder SacreBLEU:\\n{}\\n\".format(sacrebleu.compute(predictions=unixcoder_result, references=line_gts)))"
   ]
  },
  {
   "cell_type": "code",
   "execution_count": 13,
   "metadata": {},
   "outputs": [
    {
     "name": "stdout",
     "output_type": "stream",
     "text": [
      "Unixcoder METEOR:\n",
      "{'meteor': 0.3926164288298679}\n",
      "\n"
     ]
    }
   ],
   "source": [
    "print(\"Unixcoder METEOR:\\n{}\\n\".format(meteor.compute(predictions=unixcoder_result, references=line_gts)))"
   ]
  },
  {
   "cell_type": "code",
   "execution_count": 16,
   "metadata": {},
   "outputs": [
    {
     "name": "stdout",
     "output_type": "stream",
     "text": [
      "Unixcoder ROUGE:\n",
      "{'rouge1': AggregateScore(low=Score(precision=0.6314228770232428, recall=0.5696296638873694, fmeasure=0.578041665764743), mid=Score(precision=0.6392960495425362, recall=0.5771769111785867, fmeasure=0.5857214045604423), high=Score(precision=0.6468505820324274, recall=0.5848935784104841, fmeasure=0.5928938764741426)), 'rouge2': AggregateScore(low=Score(precision=0.4361296296490126, recall=0.4035997269833732, fmeasure=0.4054619806863062), mid=Score(precision=0.4450357030805899, recall=0.41157797484295267, fmeasure=0.41329862655199995), high=Score(precision=0.45379738280465437, recall=0.4206168712930911, fmeasure=0.42205076196097363)), 'rougeL': AggregateScore(low=Score(precision=0.6284689108858338, recall=0.5671051543526145, fmeasure=0.5756826256343949), mid=Score(precision=0.6368927616070293, recall=0.575268250847524, fmeasure=0.5835596766822919), high=Score(precision=0.6449654154251884, recall=0.5831986948020096, fmeasure=0.5913468238889044)), 'rougeLsum': AggregateScore(low=Score(precision=0.6289762044536596, recall=0.5668629878322414, fmeasure=0.5752990735652492), mid=Score(precision=0.6368546017366286, recall=0.575450881404123, fmeasure=0.5837720483464186), high=Score(precision=0.6445124062919078, recall=0.5829109955384382, fmeasure=0.5911493719874926))}\n",
      "\n"
     ]
    }
   ],
   "source": [
    "print(\"Unixcoder ROUGE:\\n{}\\n\".format(rouge.compute(predictions=unixcoder_result, references=line_gts)))"
   ]
  },
  {
   "cell_type": "code",
   "execution_count": null,
   "metadata": {},
   "outputs": [],
   "source": []
  }
 ],
 "metadata": {
  "kernelspec": {
   "display_name": "Python 3.7.11 ('codexglue': conda)",
   "language": "python",
   "name": "python3"
  },
  "language_info": {
   "codemirror_mode": {
    "name": "ipython",
    "version": 3
   },
   "file_extension": ".py",
   "mimetype": "text/x-python",
   "name": "python",
   "nbconvert_exporter": "python",
   "pygments_lexer": "ipython3",
   "version": "3.7.11"
  },
  "orig_nbformat": 4,
  "vscode": {
   "interpreter": {
    "hash": "ca72d922c08c5f96bebc5c54e88916ae61bd21443384f0f95e31e832fe61134d"
   }
  }
 },
 "nbformat": 4,
 "nbformat_minor": 2
}
